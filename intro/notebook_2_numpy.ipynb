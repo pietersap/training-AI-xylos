{
 "cells": [
  {
   "cell_type": "markdown",
   "metadata": {
    "colab_type": "text",
    "id": "xCkKmAQxS5Yb"
   },
   "source": [
    "# 1 Install and import Numpy\n",
    "\n",
    "Numpy is a powerful third-party library to manipulate numerical data. Many of its methods perform calculates in a parallellized way, so that it can handle large arrays of data very efficiently. Moreover, it contains convenient built-in functions for all kinds of scientific, numerical and statistical calculations.\n",
    "\n",
    "First, we need to install it with the following command:\n",
    "\n",
    "- pip install numpy\n",
    "\n",
    "The pip package manager comes installed with Python. \n",
    "\n",
    "Instead of opening a command window, we can also run commands directly from this notebook:"
   ]
  },
  {
   "cell_type": "code",
   "execution_count": null,
   "metadata": {
    "colab": {
     "base_uri": "https://localhost:8080/",
     "height": 34
    },
    "colab_type": "code",
    "collapsed": false,
    "executionInfo": {
     "elapsed": 4611,
     "status": "ok",
     "timestamp": 1538408569697,
     "user": {
      "displayName": "Pieter Sap",
      "photoUrl": "",
      "userId": "15749761891409076289"
     },
     "user_tz": -120
    },
    "id": "iEwpC_PAS5Yc",
    "outputId": "9d1b6524-dfa5-426d-8c5a-0eb44b314c69"
   },
   "outputs": [],
   "source": [
    "! pip install numpy"
   ]
  },
  {
   "cell_type": "markdown",
   "metadata": {
    "colab_type": "text",
    "id": "KGdaBR7_S5Yk"
   },
   "source": [
    "In Colaboratory, the output will say \"Requirement already satisfied\". Numpy is already installed on the hosted Colaboratory environment. When using Jupyter notebooks on your own machine, this command will download and install the Python library if not already pressent.\n",
    "\n",
    "In most cases, but not always, the library can be imported in the code with the same name as the name of the package in the command above."
   ]
  },
  {
   "cell_type": "code",
   "execution_count": null,
   "metadata": {
    "colab": {},
    "colab_type": "code",
    "collapsed": true,
    "id": "bSL7_ekzS5Yk"
   },
   "outputs": [],
   "source": [
    "import numpy as np # by convention, we import numpy as np."
   ]
  },
  {
   "cell_type": "markdown",
   "metadata": {
    "colab_type": "text",
    "id": "jZHXiCtdS5Yo"
   },
   "source": [
    "# 2 Numpy Arrays\n",
    "\n",
    "## 2.1 Basics"
   ]
  },
  {
   "cell_type": "markdown",
   "metadata": {
    "colab_type": "text",
    "id": "KPV3M-fsS5Yp"
   },
   "source": [
    "The basic object class in Numpy is an array. An array can have one or more dimensions of various sizes. "
   ]
  },
  {
   "cell_type": "code",
   "execution_count": null,
   "metadata": {
    "colab": {},
    "colab_type": "code",
    "collapsed": false,
    "id": "q6rIG4_-S5Yq",
    "outputId": "d61c3a1f-2bd3-4f00-bd4b-a5041fb9b4ce"
   },
   "outputs": [],
   "source": [
    "#one-dimensional array\n",
    "\n",
    "array1 = np.array([1,4,5,8])\n",
    "array1 "
   ]
  },
  {
   "cell_type": "markdown",
   "metadata": {
    "colab_type": "text",
    "id": "zYOSaQuaS5Yv"
   },
   "source": [
    "The input to the constructor is an \"array-like\" object (list, tuple, ...). Conversely, an array can be turned into a list as follows:"
   ]
  },
  {
   "cell_type": "code",
   "execution_count": null,
   "metadata": {
    "colab": {},
    "colab_type": "code",
    "collapsed": false,
    "id": "nuAMzEptS5Yw",
    "outputId": "c9978d2c-1820-4e85-adfb-36ba02d29323"
   },
   "outputs": [],
   "source": [
    "list1 = list(array1)\n",
    "list1"
   ]
  },
  {
   "cell_type": "code",
   "execution_count": null,
   "metadata": {
    "colab": {},
    "colab_type": "code",
    "collapsed": false,
    "id": "vH256c8rS5Y1",
    "outputId": "2f13f3af-72fa-45be-8ac2-cac08cb15944"
   },
   "outputs": [],
   "source": [
    "print(type(array1))"
   ]
  },
  {
   "cell_type": "code",
   "execution_count": null,
   "metadata": {
    "colab": {},
    "colab_type": "code",
    "collapsed": false,
    "id": "vWeeJ_CRS5Y6",
    "outputId": "d9094c2e-0af7-4ae8-8de4-31d7e0c9219b"
   },
   "outputs": [],
   "source": [
    "#two-dimensional array\n",
    "\n",
    "array2 = np.array([[4,5,6],[4,8,7]])\n",
    "array2\n"
   ]
  },
  {
   "cell_type": "code",
   "execution_count": null,
   "metadata": {
    "colab": {},
    "colab_type": "code",
    "collapsed": false,
    "id": "tmjr8_bNS5Y-",
    "outputId": "8b7d3903-32ce-4dff-ef26-0de4d0ebefa0"
   },
   "outputs": [],
   "source": [
    "#four-dimensional array\n",
    "\n",
    "array4 = np.array([[[[1,2],[3,4]],[[5,6],[7,8]]],[[[9,10],[11,12]],[[13,14],[15,16]]]])\n",
    "array4"
   ]
  },
  {
   "cell_type": "markdown",
   "metadata": {
    "colab_type": "text",
    "id": "LVU0m6RsS5ZG"
   },
   "source": [
    "The **dimensions** of the array can be found with the **shape attribute**."
   ]
  },
  {
   "cell_type": "code",
   "execution_count": null,
   "metadata": {
    "colab": {},
    "colab_type": "code",
    "collapsed": false,
    "id": "62u06CeUS5ZI",
    "outputId": "abee7e00-590c-4c8e-ad88-c38ad11f79a1"
   },
   "outputs": [],
   "source": [
    "array2"
   ]
  },
  {
   "cell_type": "code",
   "execution_count": null,
   "metadata": {
    "colab": {},
    "colab_type": "code",
    "collapsed": false,
    "id": "nBmvTiI_S5ZN",
    "outputId": "81444f5e-fdf1-4f60-e125-b008a994faa1"
   },
   "outputs": [],
   "source": [
    "array2.shape"
   ]
  },
  {
   "cell_type": "code",
   "execution_count": null,
   "metadata": {
    "colab": {},
    "colab_type": "code",
    "collapsed": false,
    "id": "If-u6kUKS5ZV",
    "outputId": "a0b3ef6c-bd7a-4811-fc35-9c72d94fdbe4"
   },
   "outputs": [],
   "source": [
    "array4.shape"
   ]
  },
  {
   "cell_type": "markdown",
   "metadata": {
    "colab_type": "text",
    "id": "Ohn1S4PrS5Zb"
   },
   "source": [
    "Creating an ordered array is done with np.arange() "
   ]
  },
  {
   "cell_type": "code",
   "execution_count": null,
   "metadata": {
    "colab": {},
    "colab_type": "code",
    "collapsed": false,
    "id": "hNFEH130S5Zd",
    "outputId": "f4620585-8225-4548-c158-4e936c4a0065"
   },
   "outputs": [],
   "source": [
    "ordered_array = np.arange(10)\n",
    "ordered_array"
   ]
  },
  {
   "cell_type": "markdown",
   "metadata": {
    "colab_type": "text",
    "id": "8jtFH1IFS5Zj"
   },
   "source": [
    "## 2.2 Numpy datatypes"
   ]
  },
  {
   "cell_type": "markdown",
   "metadata": {
    "colab_type": "text",
    "id": "ysgOXjQIS5Zk"
   },
   "source": [
    "Unlike Python lists, a numpy array has a **fixed datatype**. Numpy defines a number of **built-in data types**."
   ]
  },
  {
   "cell_type": "code",
   "execution_count": null,
   "metadata": {
    "colab": {},
    "colab_type": "code",
    "collapsed": false,
    "id": "EoZ4CGoSS5Zl",
    "outputId": "00438ecc-6e6b-46b6-f69f-ca73c6dc68af"
   },
   "outputs": [],
   "source": [
    "array_int = np.array([[1,2],[3,4]])\n",
    "array_int.dtype"
   ]
  },
  {
   "cell_type": "code",
   "execution_count": null,
   "metadata": {
    "colab": {},
    "colab_type": "code",
    "collapsed": false,
    "id": "h10Trc-zS5Zp",
    "outputId": "caade9b6-aff9-4bb0-8f85-b75ecb5c0426"
   },
   "outputs": [],
   "source": [
    "array_int"
   ]
  },
  {
   "cell_type": "code",
   "execution_count": null,
   "metadata": {
    "colab": {},
    "colab_type": "code",
    "collapsed": false,
    "id": "wUJqx8a4S5Zt",
    "outputId": "ee2490c8-8a9a-461a-e0a8-48fd4ff2514d"
   },
   "outputs": [],
   "source": [
    "array_int[1,1]"
   ]
  },
  {
   "cell_type": "code",
   "execution_count": null,
   "metadata": {
    "colab": {},
    "colab_type": "code",
    "collapsed": false,
    "id": "pOMJLdHpS5Zx",
    "outputId": "30d74b10-e3db-4c50-f63f-4ac2fe0d601c"
   },
   "outputs": [],
   "source": [
    "array_float = np.array([[1.0,2.0],[3.0,4.0]])\n",
    "array_float.dtype"
   ]
  },
  {
   "cell_type": "code",
   "execution_count": null,
   "metadata": {
    "colab": {},
    "colab_type": "code",
    "collapsed": false,
    "id": "VP6bfe14S5Z4",
    "outputId": "e73c8ff9-899b-4729-e3f6-76b8e2bd7190"
   },
   "outputs": [],
   "source": [
    "print(array_float[0,0])\n",
    "print(array_float[1,1])\n",
    "print(type(array_float[0,0]))\n",
    "print(type(array_float[1,1]))"
   ]
  },
  {
   "cell_type": "code",
   "execution_count": null,
   "metadata": {
    "colab": {},
    "colab_type": "code",
    "collapsed": false,
    "id": "AgV3Wa0oS5Z7",
    "outputId": "16d834a7-f599-4f7c-fe64-eb7e3589f093"
   },
   "outputs": [],
   "source": [
    "array_string = np.array(['hello','world'])\n",
    "array_string.dtype"
   ]
  },
  {
   "cell_type": "code",
   "execution_count": null,
   "metadata": {
    "colab": {},
    "colab_type": "code",
    "collapsed": false,
    "id": "kqb8wHOtS5Z-",
    "outputId": "cee9ec6e-a945-420f-d5c3-506a8a9c6283"
   },
   "outputs": [],
   "source": [
    "print(array_string[0])\n",
    "print(array_string[1])\n",
    "print(type(array_string[0]))\n",
    "print(type(array_string[1]))"
   ]
  },
  {
   "cell_type": "markdown",
   "metadata": {
    "colab_type": "text",
    "id": "Qpw2bsagS5aC"
   },
   "source": [
    "A numpy array has **only one type**"
   ]
  },
  {
   "cell_type": "code",
   "execution_count": null,
   "metadata": {
    "colab": {},
    "colab_type": "code",
    "collapsed": false,
    "id": "r4n9NClpS5aD",
    "outputId": "48b507a0-4ad5-4582-f74d-3ce625f43d49"
   },
   "outputs": [],
   "source": [
    "array_mixed = np.array([5.0,\"hello\"]) #ERROR\n",
    "array_mixed.dtype"
   ]
  },
  {
   "cell_type": "code",
   "execution_count": null,
   "metadata": {
    "colab": {},
    "colab_type": "code",
    "collapsed": false,
    "id": "1YGMPtsyS5aH",
    "outputId": "6c9f2de7-59ff-4148-ad57-8c4623f31b01"
   },
   "outputs": [],
   "source": [
    "print(array_mixed[0])\n",
    "print(array_mixed[1])\n",
    "print(type(array_mixed[0]))\n",
    "print(type(array_mixed[1]))"
   ]
  },
  {
   "cell_type": "markdown",
   "metadata": {
    "colab_type": "text",
    "id": "rAQFil_VS5aL"
   },
   "source": [
    "## 2.3 Slicing and indexing arrays"
   ]
  },
  {
   "cell_type": "markdown",
   "metadata": {
    "colab_type": "text",
    "id": "jGS_JlNSS5aL"
   },
   "source": [
    "Select a specific element from the array by specifying the coordinates in square brackets. Remember that indices start at 0. "
   ]
  },
  {
   "cell_type": "code",
   "execution_count": null,
   "metadata": {
    "colab": {},
    "colab_type": "code",
    "collapsed": false,
    "id": "c0JLpni0S5aM",
    "outputId": "60be4411-d040-4764-9ec7-4f94a1fbdd1d"
   },
   "outputs": [],
   "source": [
    "array2"
   ]
  },
  {
   "cell_type": "code",
   "execution_count": null,
   "metadata": {
    "colab": {},
    "colab_type": "code",
    "collapsed": false,
    "id": "VLgeMAGmS5aR",
    "outputId": "ee9b56d8-9c8a-4e84-810c-c424fcd58362"
   },
   "outputs": [],
   "source": [
    "array2[0,1] #first row, second column"
   ]
  },
  {
   "cell_type": "markdown",
   "metadata": {
    "colab_type": "text",
    "id": "j_k1oC2GS5aU"
   },
   "source": [
    "Select an entire row or column with a colon."
   ]
  },
  {
   "cell_type": "code",
   "execution_count": null,
   "metadata": {
    "colab": {},
    "colab_type": "code",
    "collapsed": false,
    "id": "H-zlE9qrS5aU",
    "outputId": "9c5402bc-00af-4f2e-e982-a1aea1c79cd5"
   },
   "outputs": [],
   "source": [
    "array2[:,0]"
   ]
  },
  {
   "cell_type": "code",
   "execution_count": null,
   "metadata": {
    "colab": {},
    "colab_type": "code",
    "collapsed": false,
    "id": "sZ__P4ElS5aY",
    "outputId": "741a7f34-2f1e-4ac5-9fc6-c7a018d80d09"
   },
   "outputs": [],
   "source": [
    "array2[1,:]"
   ]
  },
  {
   "cell_type": "code",
   "execution_count": null,
   "metadata": {
    "colab": {},
    "colab_type": "code",
    "collapsed": false,
    "id": "zsVKGS0mS5ac",
    "outputId": "5e5cb57d-b012-4b54-a77e-34b55199152a"
   },
   "outputs": [],
   "source": [
    "array4[0,0,0,:]"
   ]
  },
  {
   "cell_type": "code",
   "execution_count": null,
   "metadata": {
    "colab": {},
    "colab_type": "code",
    "collapsed": false,
    "id": "oJZmK_FVS5ai",
    "outputId": "539b0bc5-b7f5-4393-e140-6c01bcbc78e2"
   },
   "outputs": [],
   "source": [
    "ordered_array"
   ]
  },
  {
   "cell_type": "markdown",
   "metadata": {
    "colab_type": "text",
    "id": "se5XNzXBS5ak"
   },
   "source": [
    "Make a stepwise selection with [start:stop:step]. The index 'start' will be included, index 'stop' is not included."
   ]
  },
  {
   "cell_type": "code",
   "execution_count": null,
   "metadata": {
    "colab": {},
    "colab_type": "code",
    "collapsed": false,
    "id": "wZiGLn2pS5am",
    "outputId": "38d34c61-edef-4a95-ee61-d4d0f0c2fd3c"
   },
   "outputs": [],
   "source": [
    "ordered_array[0:9:1]"
   ]
  },
  {
   "cell_type": "code",
   "execution_count": null,
   "metadata": {
    "colab": {},
    "colab_type": "code",
    "collapsed": false,
    "id": "LP10s5vuS5ap",
    "outputId": "848a74b6-e215-427c-990d-0afc46df51dc"
   },
   "outputs": [],
   "source": [
    "ordered_array[0:9:2]"
   ]
  },
  {
   "cell_type": "markdown",
   "metadata": {
    "colab_type": "text",
    "id": "auHV8gTIS5ar"
   },
   "source": [
    "## 2.4 Exercise\n",
    "\n",
    "First, we create a random 4x4 2D array."
   ]
  },
  {
   "cell_type": "code",
   "execution_count": null,
   "metadata": {
    "colab": {},
    "colab_type": "code",
    "collapsed": false,
    "id": "bZLHu7QaS5as",
    "outputId": "9bbef827-a4a6-40c5-e5be-5a636387cae7"
   },
   "outputs": [],
   "source": [
    "np.random.seed(0)\n",
    "my_array = np.random.randint(0,100,(4,12))\n",
    "my_array"
   ]
  },
  {
   "cell_type": "markdown",
   "metadata": {
    "colab_type": "text",
    "id": "jcR83C9VS5aw"
   },
   "source": [
    "Remove every second column from the array"
   ]
  },
  {
   "cell_type": "code",
   "execution_count": null,
   "metadata": {
    "colab": {},
    "colab_type": "code",
    "collapsed": false,
    "id": "n3L3H1RmS5aw",
    "outputId": "39ff72d0-c7ea-442a-ce1e-9110cad9d1cb"
   },
   "outputs": [],
   "source": [
    "#CODE HERE\n",
    "\n",
    "#SOLUTION\n",
    "my_array = my_array[:,0:12:2]\n",
    "my_array"
   ]
  },
  {
   "cell_type": "markdown",
   "metadata": {
    "colab_type": "text",
    "id": "RpmCesX3S5az"
   },
   "source": [
    "# 3 Calculations with arrays"
   ]
  },
  {
   "cell_type": "markdown",
   "metadata": {
    "colab_type": "text",
    "id": "eR6DXo4jS5az"
   },
   "source": [
    "## 3.1 element-wise operations"
   ]
  },
  {
   "cell_type": "code",
   "execution_count": null,
   "metadata": {
    "colab": {},
    "colab_type": "code",
    "collapsed": false,
    "id": "N9q2oKwyS5a0",
    "outputId": "1af62773-bd03-4292-ed7d-c20c45025727"
   },
   "outputs": [],
   "source": [
    "array1 = np.array([[1,2],[3,4]])\n",
    "array2 = np.array([[5,6],[7,8]])\n",
    "print(array1)\n",
    "print(\"\\n\")\n",
    "print(array2)"
   ]
  },
  {
   "cell_type": "code",
   "execution_count": null,
   "metadata": {
    "colab": {},
    "colab_type": "code",
    "collapsed": false,
    "id": "pSzCoDMsS5a4",
    "outputId": "f91fc36b-6c2e-474a-aa79-331d0d3f7b3f"
   },
   "outputs": [],
   "source": [
    "array1*array2"
   ]
  },
  {
   "cell_type": "code",
   "execution_count": null,
   "metadata": {
    "colab": {},
    "colab_type": "code",
    "collapsed": false,
    "id": "y47bt4DfS5a-",
    "outputId": "1185ebd4-06d1-4a07-ca09-9470523d3757"
   },
   "outputs": [],
   "source": [
    "array1>array2"
   ]
  },
  {
   "cell_type": "code",
   "execution_count": null,
   "metadata": {
    "colab": {},
    "colab_type": "code",
    "collapsed": false,
    "id": "O5fiPxILS5bG",
    "outputId": "21a55be1-5d52-49d0-bfaf-708764481d6b"
   },
   "outputs": [],
   "source": [
    "array1 - array2"
   ]
  },
  {
   "cell_type": "code",
   "execution_count": null,
   "metadata": {
    "colab": {},
    "colab_type": "code",
    "collapsed": false,
    "id": "0azAe7eIS5bI",
    "outputId": "287432a4-d4cf-4659-d4ea-d7e7baf2a202"
   },
   "outputs": [],
   "source": [
    "array1 ** 2"
   ]
  },
  {
   "cell_type": "markdown",
   "metadata": {
    "colab_type": "text",
    "id": "2htC7x-gS5bO"
   },
   "source": [
    "## 3.2 Matrix operations\n",
    "\n",
    "**matrix multiplication**"
   ]
  },
  {
   "cell_type": "code",
   "execution_count": null,
   "metadata": {
    "colab": {},
    "colab_type": "code",
    "collapsed": false,
    "id": "a9pMexYzS5bP",
    "outputId": "31e14ddd-4a74-462f-bd04-0f1dd63b2ebe"
   },
   "outputs": [],
   "source": [
    "np.matmul(array1,array2)"
   ]
  },
  {
   "cell_type": "markdown",
   "metadata": {
    "colab_type": "text",
    "id": "baoXu47bS5bT"
   },
   "source": [
    "**transpose**\n",
    "\n",
    "Transposing a 2D array can be done with '.T'"
   ]
  },
  {
   "cell_type": "code",
   "execution_count": null,
   "metadata": {
    "colab": {},
    "colab_type": "code",
    "collapsed": false,
    "id": "JGj-am0rS5bU",
    "outputId": "5b97d130-1c64-4e03-f983-afadbca0e808"
   },
   "outputs": [],
   "source": [
    "print(array1)\n",
    "print(\"\\n\")\n",
    "print(array1.T)"
   ]
  },
  {
   "cell_type": "markdown",
   "metadata": {
    "colab_type": "text",
    "id": "Je95baqxS5be"
   },
   "source": [
    "For moredimensional arrays, use **np.transpose()**. By default, it inverses the axes. You can also specify the exact permutation of the axes. See the [documentation for np.transpose()](https://docs.scipy.org/doc/numpy/reference/generated/numpy.transpose.html)"
   ]
  },
  {
   "cell_type": "code",
   "execution_count": null,
   "metadata": {
    "colab": {},
    "colab_type": "code",
    "collapsed": false,
    "id": "9B2WMX9eS5be",
    "outputId": "9589518a-50db-4e13-ba17-42c79987380d"
   },
   "outputs": [],
   "source": [
    "array3 = np.array([[[1,2,0],[3,4,0]],[[5,6,0],[7,8,0]],[[11,22,0],[33,44,0]],[[55,66,0],[77,88,0]]])\n",
    "array3.shape"
   ]
  },
  {
   "cell_type": "code",
   "execution_count": null,
   "metadata": {
    "colab": {},
    "colab_type": "code",
    "collapsed": false,
    "id": "YuCACTRWS5bj",
    "outputId": "c63a9d69-8dc4-4ad6-a7ac-a7a8c926d69e"
   },
   "outputs": [],
   "source": [
    "array3_transposed = np.transpose(array3)\n",
    "array3_transposed.shape"
   ]
  },
  {
   "cell_type": "code",
   "execution_count": null,
   "metadata": {
    "colab": {},
    "colab_type": "code",
    "collapsed": false,
    "id": "ymA1260mS5bn",
    "outputId": "949ce708-9771-4f66-c33e-808f12b5d754"
   },
   "outputs": [],
   "source": [
    "array3_transposed = np.transpose(array3,axes=(1,2,0))\n",
    "array3_transposed.shape"
   ]
  },
  {
   "cell_type": "markdown",
   "metadata": {
    "colab_type": "text",
    "id": "-P9eJsf4S5bp"
   },
   "source": [
    "# 3.3 Broadcasting\n",
    "\n",
    "Broadcasting describes how operations are done on arrays of different shapes. Remember, when using the **asteriks\\*-operator**, the arrays are multiplied elementwise. "
   ]
  },
  {
   "cell_type": "code",
   "execution_count": null,
   "metadata": {
    "colab": {},
    "colab_type": "code",
    "collapsed": false,
    "id": "ccjCbe2aS5bp",
    "outputId": "005226b8-3d08-42f8-b51a-8f5e3db8ef1c"
   },
   "outputs": [],
   "source": [
    "array1 = np.array([[1,2],[3,4]])\n",
    "array2 = np.array([[5,6],[7,8]])\n",
    "print(array1)\n",
    "print(\"\\n\")\n",
    "print(array2)"
   ]
  },
  {
   "cell_type": "code",
   "execution_count": null,
   "metadata": {
    "colab": {},
    "colab_type": "code",
    "collapsed": false,
    "id": "zn6J57RqS5bs",
    "outputId": "36a649b6-c43c-4fb7-bb54-d32612a12817"
   },
   "outputs": [],
   "source": [
    "array1*array2"
   ]
  },
  {
   "cell_type": "markdown",
   "metadata": {
    "colab_type": "text",
    "id": "svu3PQ4nS5bw"
   },
   "source": [
    "Thanks to broadcasting, we can do more. For example, we can multiply a multidimensional array with a single scalar."
   ]
  },
  {
   "cell_type": "code",
   "execution_count": null,
   "metadata": {
    "colab": {},
    "colab_type": "code",
    "collapsed": false,
    "id": "pjpJgyCdS5bx",
    "outputId": "d724a9ef-1e5e-4975-e573-2c2412131658"
   },
   "outputs": [],
   "source": [
    "array1 * 5"
   ]
  },
  {
   "cell_type": "markdown",
   "metadata": {
    "colab_type": "text",
    "id": "3CKQMotKS5bz"
   },
   "source": [
    "The value \"5\" above is **\"broadcast\" accross the larger array so that the shapes become compatible**. The statement above is thus\n",
    "equivalent to the one below."
   ]
  },
  {
   "cell_type": "code",
   "execution_count": null,
   "metadata": {
    "colab": {},
    "colab_type": "code",
    "collapsed": false,
    "id": "QR326rTiS5bz",
    "outputId": "f3b760f4-740c-4fad-9176-d4a2b28fff1a"
   },
   "outputs": [],
   "source": [
    "array1 * np.array([[5,5],[5,5]])"
   ]
  },
  {
   "cell_type": "markdown",
   "metadata": {
    "colab_type": "text",
    "id": "sTqmBGfZS5b1"
   },
   "source": [
    "We can also do the following."
   ]
  },
  {
   "cell_type": "code",
   "execution_count": null,
   "metadata": {
    "colab": {},
    "colab_type": "code",
    "collapsed": false,
    "id": "0_SE66jXS5b2",
    "outputId": "00176d48-5dd5-49f1-95df-9790b2a0373b"
   },
   "outputs": [],
   "source": [
    "array3 = np.array([5,6])\n",
    "\n",
    "print(array1)\n",
    "print(\"\\n\")\n",
    "print(array3)\n",
    "\n",
    "print(\"\\nshape of array1: \",array1.shape)\n",
    "print(\"shape of array3: \",array3.shape)\n"
   ]
  },
  {
   "cell_type": "code",
   "execution_count": null,
   "metadata": {
    "colab": {},
    "colab_type": "code",
    "collapsed": false,
    "id": "OMufuoOJS5b5",
    "outputId": "41beaab1-84ec-4bfc-f834-1f99d693b3f0"
   },
   "outputs": [],
   "source": [
    "array3 * array1"
   ]
  },
  {
   "cell_type": "code",
   "execution_count": null,
   "metadata": {
    "colab": {},
    "colab_type": "code",
    "collapsed": false,
    "id": "DlV0sGZHS5b9",
    "outputId": "3a67f630-d92c-4111-965b-b4edcf112fef"
   },
   "outputs": [],
   "source": [
    "array1 * array3"
   ]
  },
  {
   "cell_type": "markdown",
   "metadata": {
    "colab_type": "text",
    "id": "FzAAzNs7S5cD"
   },
   "source": [
    "again, array3 was broadcast over the larger array1. The above is equivalent to the following:"
   ]
  },
  {
   "cell_type": "code",
   "execution_count": null,
   "metadata": {
    "colab": {},
    "colab_type": "code",
    "collapsed": false,
    "id": "hwPFSVDTS5cD",
    "outputId": "63551506-6c85-4b49-8f92-02d5da6e4063"
   },
   "outputs": [],
   "source": [
    "array1 * np.array([[5,6],[5,6]])"
   ]
  },
  {
   "cell_type": "markdown",
   "metadata": {
    "colab_type": "text",
    "id": "tf_FmI17S5cG"
   },
   "source": [
    "Of course, broadcasting will never work if the shapes don't allow it. The **dimensions must be compatible**. Dimensions are compatible when\n",
    "\n",
    "1. dimensions of both arrays are equal (obviously)\n",
    "2. one of the dimensions (of either array) is 1"
   ]
  },
  {
   "cell_type": "code",
   "execution_count": null,
   "metadata": {
    "colab": {},
    "colab_type": "code",
    "collapsed": false,
    "id": "OBM1eegwS5cG",
    "outputId": "ad97e500-86fb-4e99-ddfd-13665680e6c8"
   },
   "outputs": [],
   "source": [
    "array4 = np.array([[1,2],[3,4],[5,6],[7,8]])\n",
    "\n",
    "print(array1)\n",
    "print(\"\\n\")\n",
    "print(array4)\n",
    "\n",
    "print(\"\\nshape of array1: \",array1.shape)\n",
    "print(\"shape of array4: \",array4.shape)"
   ]
  },
  {
   "cell_type": "code",
   "execution_count": null,
   "metadata": {
    "colab": {},
    "colab_type": "code",
    "collapsed": false,
    "id": "CYu18kIbS5cJ",
    "outputId": "677bc439-9981-498b-a2bf-a1f7e8d9c23f"
   },
   "outputs": [],
   "source": [
    "array1 * array4"
   ]
  },
  {
   "cell_type": "markdown",
   "metadata": {
    "colab_type": "text",
    "id": "3NV03cSKS5cL"
   },
   "source": [
    "## 3.4 Vectorization (advanced)\n",
    "\n",
    "With vectorization, you can create vectorized functions to perform **custom operations** on arrays. Below is a short example, read more in the [documentation!](https://docs.scipy.org/doc/numpy/reference/generated/numpy.vectorize.html)"
   ]
  },
  {
   "cell_type": "code",
   "execution_count": null,
   "metadata": {
    "colab": {},
    "colab_type": "code",
    "collapsed": true,
    "id": "MGQELcHNS5cL"
   },
   "outputs": [],
   "source": [
    "def myfunc(a, b):\n",
    "    \"Return a-b if a>b, otherwise return a+b\"\n",
    "    if a > b:\n",
    "        return a - b\n",
    "    else:\n",
    "        return a + b"
   ]
  },
  {
   "cell_type": "code",
   "execution_count": null,
   "metadata": {
    "colab": {},
    "colab_type": "code",
    "collapsed": false,
    "id": "WyZtmRvkS5cN",
    "outputId": "9986f819-ad0f-431f-f056-7c5c510842c2"
   },
   "outputs": [],
   "source": [
    "myfunc(4,5)"
   ]
  },
  {
   "cell_type": "code",
   "execution_count": null,
   "metadata": {
    "colab": {},
    "colab_type": "code",
    "collapsed": true,
    "id": "NS4LnFtsS5cP"
   },
   "outputs": [],
   "source": [
    "vfunc = np.vectorize(myfunc)"
   ]
  },
  {
   "cell_type": "code",
   "execution_count": null,
   "metadata": {
    "colab": {},
    "colab_type": "code",
    "collapsed": false,
    "id": "ZT_Yt-UqS5cR",
    "outputId": "df183951-4765-4636-dbd1-b6baf7debe16"
   },
   "outputs": [],
   "source": [
    "array1 = np.array([[1,2],[7,8]])\n",
    "array2 = np.array([[7,8],[6,5]])\n",
    "\n",
    "print(array1)\n",
    "print(\"\\n\")\n",
    "print(array2)"
   ]
  },
  {
   "cell_type": "code",
   "execution_count": null,
   "metadata": {
    "colab": {},
    "colab_type": "code",
    "collapsed": false,
    "id": "NMN_yqAZS5cT",
    "outputId": "32dc5fda-cc28-4567-9250-a703dbe1fd74"
   },
   "outputs": [],
   "source": [
    "vfunc(array1,array2)"
   ]
  },
  {
   "cell_type": "markdown",
   "metadata": {
    "colab_type": "text",
    "id": "-hkdgBb5S5cW"
   },
   "source": [
    "The **broadcasting rule applies** here too."
   ]
  },
  {
   "cell_type": "code",
   "execution_count": null,
   "metadata": {
    "colab": {},
    "colab_type": "code",
    "collapsed": false,
    "id": "o_oTO2ZkS5cW",
    "outputId": "13acfc54-c319-4c49-e5a1-c0c93d8e5050"
   },
   "outputs": [],
   "source": [
    "array1"
   ]
  },
  {
   "cell_type": "code",
   "execution_count": null,
   "metadata": {
    "colab": {},
    "colab_type": "code",
    "collapsed": false,
    "id": "Pg-nT_dNS5cZ",
    "outputId": "12812f03-76dc-4f2c-99d7-d3035f45fe88"
   },
   "outputs": [],
   "source": [
    "array3 = np.array([5,6])\n",
    "array3"
   ]
  },
  {
   "cell_type": "code",
   "execution_count": null,
   "metadata": {
    "colab": {},
    "colab_type": "code",
    "collapsed": false,
    "id": "TacuNkB5S5cc",
    "outputId": "7096ae39-8f5c-4a1d-b623-9fd2f0ffcba8"
   },
   "outputs": [],
   "source": [
    "vfunc(array1,array3)"
   ]
  },
  {
   "cell_type": "markdown",
   "metadata": {
    "colab_type": "text",
    "id": "n7mN9rZlS5cd"
   },
   "source": [
    "Does this result make sense?"
   ]
  },
  {
   "cell_type": "markdown",
   "metadata": {
    "colab_type": "text",
    "id": "Uf8QLdE2S5ce"
   },
   "source": [
    "## 3.5 Exercise\n",
    "\n",
    "**hints:** With the *np.ndarray.max()* function, we can find the mean of an array along a given axis. For example, the code below finds a vector *max_vector* that represents that mean of every row in *my_array*."
   ]
  },
  {
   "cell_type": "code",
   "execution_count": null,
   "metadata": {
    "colab": {},
    "colab_type": "code",
    "collapsed": false,
    "id": "5qLOvXnmS5ce",
    "outputId": "0c64f6b9-6dd9-47d4-8382-e25028e830b0"
   },
   "outputs": [],
   "source": [
    "my_array = np.random.randint(0,100,(4,6))\n",
    "print(my_array.shape)\n",
    "print(\"\")\n",
    "print(my_array)"
   ]
  },
  {
   "cell_type": "code",
   "execution_count": null,
   "metadata": {
    "colab": {},
    "colab_type": "code",
    "collapsed": false,
    "id": "_RroGOM3S5ch",
    "outputId": "d57ffc9a-9f5f-41ab-f831-4949fbb334dd"
   },
   "outputs": [],
   "source": [
    "mean_vector = my_array.mean(axis=1) #axis indexing starts at 0, so axis=1 means the second axis.\n",
    "print(mean_vector.shape)\n",
    "print(\"the means of the rows are...\")\n",
    "print(mean_vector)"
   ]
  },
  {
   "cell_type": "markdown",
   "metadata": {
    "colab_type": "text",
    "id": "1-DaWZSvS5cl"
   },
   "source": [
    "The resulting array is 1-dimensional. In order to support broadcasting with the (4,6) array, the row must be of shape (4,1). Use np.expand_dims():"
   ]
  },
  {
   "cell_type": "code",
   "execution_count": null,
   "metadata": {
    "colab": {},
    "colab_type": "code",
    "collapsed": false,
    "id": "NXsOEKxVS5cl",
    "outputId": "18b65e60-0c2b-458b-8078-1036c14890b9"
   },
   "outputs": [],
   "source": [
    "mean_vector = np.expand_dims(mean_vector,1)\n",
    "print(mean_vector.shape)\n",
    "print(\"\")\n",
    "print(mean_vector)\n"
   ]
  },
  {
   "cell_type": "markdown",
   "metadata": {
    "colab_type": "text",
    "id": "EjCLfT4US5cq"
   },
   "source": [
    "**Exercise:** From my_array, create an array where some elements are replaced by zero:\n",
    "1. If the value is higher than the mean value of its row, keep the original value\n",
    "2. If the value is lower than the mean value of its row, set the value to zero.\n"
   ]
  },
  {
   "cell_type": "code",
   "execution_count": null,
   "metadata": {
    "colab": {},
    "colab_type": "code",
    "collapsed": false,
    "id": "7bKo_CyES5cq",
    "outputId": "6b4b60ff-9649-476b-e6bd-3270a7cb5277"
   },
   "outputs": [],
   "source": [
    "my_array = np.random.randint(0,100,(4,6))\n",
    "print(my_array.shape)\n",
    "print(\"\")\n",
    "print(my_array)"
   ]
  },
  {
   "cell_type": "code",
   "execution_count": null,
   "metadata": {
    "colab": {},
    "colab_type": "code",
    "collapsed": false,
    "id": "kxT617zZS5ct",
    "outputId": "ee97a17a-f7fa-479e-ea0c-2b4d1052572b"
   },
   "outputs": [],
   "source": [
    "#CODE HERE\n",
    "\n",
    "#SOLUTION\n",
    "#also emphasize importance of documentation. Explain how array1 is of type numpy.ndarray, and the linked page refers to a function\n",
    "#that can be used on this object. This is different from functions like np.expand_dims(arr,...) where the array is an argument. However, \n",
    "#np.mean(arr, axis..) also exists!!\n",
    "\n",
    "#step 1: find the maximums of all rows\n",
    "mean_vector = my_array.mean(axis = 1)\n",
    "\n",
    "#step 2. The resulting array is 1 dimensional, it has a shape \"(of 4,)\". Transform it into a (4,1) array. Why not a (1,4) array?\n",
    "mean_vector = np.expand_dims(mean_vector,1)\n",
    "\n",
    "#step 2. Create an array of boolean values by comparing each element with the mean of its row. Take advantage of broadcasting.\n",
    "boolean_mask = (my_array > mean_vector)\n",
    "\n",
    "#step 3: simply multiply the original array with the boolean mask to set all values corresponding to \"False\" to zero.\n",
    "my_array = my_array * boolean_mask\n",
    "\n",
    "print(my_array)\n",
    "\n"
   ]
  },
  {
   "cell_type": "markdown",
   "metadata": {
    "colab_type": "text",
    "id": "X10tVyI_S5cw"
   },
   "source": [
    "# 4 Numpy and images\n",
    "\n",
    "## 4.1 OpenCV\n",
    "\n",
    "Images can be represented as arrays of numbers. A **coloured RGB image is a threedimensional array**, where the first two dimensions represent the horizontal and vertical axes. The third dimension contains the pixel values for the three base colours Red, Green and Blue.\n",
    "\n",
    "Images can be read and manipulated with the third-party open-source library **openCV**. We also use matplotlib here to visualize an image."
   ]
  },
  {
   "cell_type": "code",
   "execution_count": null,
   "metadata": {
    "colab": {},
    "colab_type": "code",
    "collapsed": false,
    "id": "g1PAU_zYS5cy",
    "outputId": "5bcba15f-83a2-4f52-8345-1b47b9c1180a"
   },
   "outputs": [],
   "source": [
    "! pip install opencv-python\n",
    "! pip install matplotlib"
   ]
  },
  {
   "cell_type": "code",
   "execution_count": null,
   "metadata": {
    "colab": {},
    "colab_type": "code",
    "collapsed": true,
    "id": "Ju30XganS5c1"
   },
   "outputs": [],
   "source": [
    "import cv2\n",
    "import matplotlib.pyplot as plt # matlotlib is an often-used library. Matplotlib.pyplot is typically imported as plt."
   ]
  },
  {
   "cell_type": "code",
   "execution_count": null,
   "metadata": {
    "colab": {},
    "colab_type": "code",
    "collapsed": true,
    "id": "uP4cvuomS5c3"
   },
   "outputs": [],
   "source": [
    "image = cv2.imread(\"images/bird.jpg\")"
   ]
  },
  {
   "cell_type": "code",
   "execution_count": null,
   "metadata": {
    "colab": {},
    "colab_type": "code",
    "collapsed": false,
    "id": "lU5Jj4XDS5c7",
    "outputId": "b7858bfe-a937-43c2-a142-3f4b16cc1b48"
   },
   "outputs": [],
   "source": [
    "print(type(image))\n",
    "print(image.shape)"
   ]
  },
  {
   "cell_type": "markdown",
   "metadata": {
    "colab_type": "text",
    "id": "dveFxx8eS5c9"
   },
   "source": [
    "OpenCV works perfectly with Numpy. The returned image is a numpy array of 600x697 pixels and 3 colour channels.\n",
    "\n",
    "Let's **visualize** the image with matplotlib."
   ]
  },
  {
   "cell_type": "code",
   "execution_count": null,
   "metadata": {
    "colab": {},
    "colab_type": "code",
    "collapsed": false,
    "id": "fJN2EoTCS5c-",
    "outputId": "5bc4ab4b-4782-428b-a702-1c0c7b396a98"
   },
   "outputs": [],
   "source": [
    "plt.imshow(image)"
   ]
  },
  {
   "cell_type": "markdown",
   "metadata": {
    "colab_type": "text",
    "id": "Jfo4irrUS5dA"
   },
   "source": [
    "Looks great? Not really... In the original image, the bird was blue. Watch out for the following caveat.\n",
    "\n",
    "**An image read by openCV is in BGR (blue-green-red) mode, while matplotlib displays in RGB (red-green-blue)**. We will fix this in the exercises."
   ]
  },
  {
   "cell_type": "markdown",
   "metadata": {
    "colab_type": "text",
    "id": "fZ0sTvCwS5dA"
   },
   "source": [
    "## 4.2 Exercise 2: fix the bird (advanced)\n",
    "\n",
    "In the previous section, matplotlib displayed the image in RGB, while it was read in BGR mode. Use a workaround to display the image correctly.\n",
    "\n",
    "hint: The image is read in BGR mode. It must be swapped to RGB. Using indexing, grab the slices of the BGR array corresponding to each colour, and then use np.concatenate() to create a RGB image.\n",
    "\n",
    "You will use  [np.concatenate](https://docs.scipy.org/doc/numpy/reference/generated/numpy.concatenate.html) and [np.expand_dims()](https://docs.scipy.org/doc/numpy/reference/generated/numpy.expand_dims.html)"
   ]
  },
  {
   "cell_type": "code",
   "execution_count": null,
   "metadata": {
    "colab": {},
    "colab_type": "code",
    "collapsed": false,
    "id": "wbZIjrD3S5dB",
    "outputId": "2dcc2019-e14c-4031-95ff-4939a5d7a765"
   },
   "outputs": [],
   "source": [
    "image_BGR = cv2.imread(\"images/bird.jpg\")\n",
    "image_BGR.shape"
   ]
  },
  {
   "cell_type": "code",
   "execution_count": null,
   "metadata": {
    "colab": {},
    "colab_type": "code",
    "collapsed": true,
    "id": "YPcexJMXS5dD"
   },
   "outputs": [],
   "source": [
    "#CODE HERE\n",
    "\n",
    "#SOLUTION\n",
    "\n",
    "#slice the image, seperating the three colours\n",
    "image_B = image_BGR[:,:,0]\n",
    "image_G = image_BGR[:,:,1]\n",
    "image_R = image_BGR[:,:,2]\n",
    "\n",
    "#the resulting slices are only two-dimensional. Use np.expand_dims() to transform these slices back to three-dimensional arrays,\n",
    "#where the third dimension has size 1. Pick the right axis!\n",
    "image_B = np.expand_dims(image_B,axis=2)\n",
    "image_G = np.expand_dims(image_G,axis=2)\n",
    "image_R = np.expand_dims(image_R,axis=2)\n",
    "\n",
    "#concanate the slices with np.concatenate(). Pick the right axis!\n",
    "image_RGB = np.concatenate((image_R,image_G,image_B),axis = 2) #concanate along third axis (axis = 2)\n",
    "\n"
   ]
  },
  {
   "cell_type": "markdown",
   "metadata": {
    "colab_type": "text",
    "id": "7jU-qd-_S5dD"
   },
   "source": [
    "If everything is correct, the image below should display the bird in it's original blue colour."
   ]
  },
  {
   "cell_type": "code",
   "execution_count": null,
   "metadata": {
    "colab": {},
    "colab_type": "code",
    "collapsed": false,
    "id": "vig1L-I1S5dE",
    "outputId": "77619d3c-13fb-45fd-b87b-b7a69462e995"
   },
   "outputs": [],
   "source": [
    "plt.imshow(image_RGB)"
   ]
  },
  {
   "cell_type": "code",
   "execution_count": null,
   "metadata": {
    "colab": {},
    "colab_type": "code",
    "collapsed": true,
    "id": "vO2b-1TdS5dG"
   },
   "outputs": [],
   "source": []
  }
 ],
 "metadata": {
  "colab": {
   "collapsed_sections": [
    "8jtFH1IFS5Zj",
    "rAQFil_VS5aL",
    "auHV8gTIS5ar",
    "eR6DXo4jS5az",
    "2htC7x-gS5bO",
    "3NV03cSKS5cL",
    "Uf8QLdE2S5ce",
    "fZ0sTvCwS5dA"
   ],
   "name": "notebook_2_numpy.ipynb",
   "provenance": [],
   "version": "0.3.2"
  },
  "kernelspec": {
   "display_name": "python352",
   "language": "python",
   "name": "python352"
  },
  "language_info": {
   "codemirror_mode": {
    "name": "ipython",
    "version": 3
   },
   "file_extension": ".py",
   "mimetype": "text/x-python",
   "name": "python",
   "nbconvert_exporter": "python",
   "pygments_lexer": "ipython3",
   "version": "3.5.2"
  }
 },
 "nbformat": 4,
 "nbformat_minor": 0
}
