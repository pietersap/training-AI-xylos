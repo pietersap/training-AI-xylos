{
 "cells": [
  {
   "cell_type": "markdown",
   "metadata": {
    "colab_type": "text",
    "id": "t5mF5v-mzitN"
   },
   "source": [
    "# 1 Pandas dataframes\n",
    "\n",
    "[Pandas](https://pandas.pydata.org/) is a popular Python library for handling structured data. The main object is a pandas [Dataframe](https://pandas.pydata.org/pandas-docs/stable/generated/pandas.DataFrame.html).\n",
    "\n"
   ]
  },
  {
   "cell_type": "code",
   "execution_count": null,
   "metadata": {
    "colab": {},
    "colab_type": "code",
    "collapsed": true,
    "id": "2e_8XEj2zMxB"
   },
   "outputs": [],
   "source": [
    "#pandas is conventionally imported as pd\n",
    "import pandas as pd\n",
    "\n",
    "import numpy as np"
   ]
  },
  {
   "cell_type": "markdown",
   "metadata": {
    "colab_type": "text",
    "id": "nGlCRR1zzfKG"
   },
   "source": [
    "Even though it is possible to create a new pandas dataframe out of python lists, arrays or even dictionaries of data, a pandas dataframe is typically created by reading a csv file with [read_csv](https://pandas.pydata.org/pandas-docs/stable/generated/pandas.read_csv.html#pandas.read_csv).\n",
    "\n",
    "Say, we have an example csv file containing personal data. Each record has fields for \"name\", \"surname\",\"age\" and \"location\"."
   ]
  },
  {
   "cell_type": "code",
   "execution_count": null,
   "metadata": {
    "colab": {
     "base_uri": "https://localhost:8080/",
     "height": 34
    },
    "colab_type": "code",
    "collapsed": false,
    "executionInfo": {
     "elapsed": 23846,
     "status": "ok",
     "timestamp": 1538402134892,
     "user": {
      "displayName": "Pieter Sap",
      "photoUrl": "",
      "userId": "15749761891409076289"
     },
     "user_tz": -120
    },
    "id": "7DTyjVNo24Pv",
    "outputId": "1a8a71fb-ea25-4074-8c98-1c74c80231cf"
   },
   "outputs": [],
   "source": [
    "from google.colab import drive\n",
    "drive.mount('/content/drive')"
   ]
  },
  {
   "cell_type": "code",
   "execution_count": null,
   "metadata": {
    "colab": {
     "base_uri": "https://localhost:8080/",
     "height": 195
    },
    "colab_type": "code",
    "collapsed": false,
    "executionInfo": {
     "elapsed": 451,
     "status": "ok",
     "timestamp": 1538406796624,
     "user": {
      "displayName": "Pieter Sap",
      "photoUrl": "",
      "userId": "15749761891409076289"
     },
     "user_tz": -120
    },
    "id": "IZM7E06r25lT",
    "outputId": "149c0084-f187-463a-bc6d-c8ea8e63ebf5"
   },
   "outputs": [],
   "source": [
    "people = pd.read_csv(\"/content/drive/My Drive/xylosai/intro/people.csv\",header=0)\n",
    "people"
   ]
  },
  {
   "cell_type": "code",
   "execution_count": null,
   "metadata": {
    "colab": {
     "base_uri": "https://localhost:8080/",
     "height": 34
    },
    "colab_type": "code",
    "collapsed": false,
    "executionInfo": {
     "elapsed": 541,
     "status": "ok",
     "timestamp": 1538402099829,
     "user": {
      "displayName": "Pieter Sap",
      "photoUrl": "",
      "userId": "15749761891409076289"
     },
     "user_tz": -120
    },
    "id": "cpUB7AGt3pRd",
    "outputId": "a84a36e6-cadf-41be-95ea-0cdaa4e38e9c"
   },
   "outputs": [],
   "source": [
    "type(people)"
   ]
  },
  {
   "cell_type": "markdown",
   "metadata": {
    "colab_type": "text",
    "id": "gMfLaqIi4GRC"
   },
   "source": [
    "Printing the first n values with head(). (default is n=5)"
   ]
  },
  {
   "cell_type": "code",
   "execution_count": null,
   "metadata": {
    "colab": {
     "base_uri": "https://localhost:8080/",
     "height": 136
    },
    "colab_type": "code",
    "collapsed": false,
    "executionInfo": {
     "elapsed": 315,
     "status": "ok",
     "timestamp": 1538402100531,
     "user": {
      "displayName": "Pieter Sap",
      "photoUrl": "",
      "userId": "15749761891409076289"
     },
     "user_tz": -120
    },
    "id": "N86jaHXd3E-I",
    "outputId": "31c12d8f-50fe-43bf-d882-60b528a9b5b6"
   },
   "outputs": [],
   "source": [
    "people.head(3)"
   ]
  },
  {
   "cell_type": "markdown",
   "metadata": {
    "colab_type": "text",
    "id": "FrkTeolR7G5J"
   },
   "source": [
    "Note that our dataframe received a default indexing (the numbering of the rows). It is also possible to choose an existing column as the index by using read_csv with the *index_col* parameter. The index column can be changed afterwards, and even a double index (or multi-index) can be used (in this case, the index consists of the combination of two columns). The only requirement for the index column is that the values are unique (or unique combinations in case of double or multi-index)."
   ]
  },
  {
   "cell_type": "markdown",
   "metadata": {
    "colab_type": "text",
    "id": "aLUzGMDk4NAo"
   },
   "source": [
    "A (2D) pandas Dataframe object is made of columns, represented by 1D Series objects. Seperate columns can be selected as follows.\n"
   ]
  },
  {
   "cell_type": "code",
   "execution_count": null,
   "metadata": {
    "colab": {
     "base_uri": "https://localhost:8080/",
     "height": 118
    },
    "colab_type": "code",
    "collapsed": false,
    "executionInfo": {
     "elapsed": 499,
     "status": "ok",
     "timestamp": 1538401678772,
     "user": {
      "displayName": "Pieter Sap",
      "photoUrl": "",
      "userId": "15749761891409076289"
     },
     "user_tz": -120
    },
    "id": "bkXyaJ7B4ECv",
    "outputId": "4e26ddd1-6eef-44e3-ad88-867b4c0f8771"
   },
   "outputs": [],
   "source": [
    "names = people[\"name\"]\n",
    "names\n"
   ]
  },
  {
   "cell_type": "code",
   "execution_count": null,
   "metadata": {
    "colab": {
     "base_uri": "https://localhost:8080/",
     "height": 34
    },
    "colab_type": "code",
    "collapsed": false,
    "executionInfo": {
     "elapsed": 492,
     "status": "ok",
     "timestamp": 1538401686167,
     "user": {
      "displayName": "Pieter Sap",
      "photoUrl": "",
      "userId": "15749761891409076289"
     },
     "user_tz": -120
    },
    "id": "9Qdr9yTt4sM2",
    "outputId": "50190823-48f2-4fbb-f470-9312e7c5162c"
   },
   "outputs": [],
   "source": [
    "type(names)"
   ]
  },
  {
   "cell_type": "markdown",
   "metadata": {
    "colab_type": "text",
    "id": "i6hZDkTI4vRr"
   },
   "source": [
    "If you select multiple columns, you get another dataframe"
   ]
  },
  {
   "cell_type": "code",
   "execution_count": null,
   "metadata": {
    "colab": {
     "base_uri": "https://localhost:8080/",
     "height": 195
    },
    "colab_type": "code",
    "collapsed": false,
    "executionInfo": {
     "elapsed": 478,
     "status": "ok",
     "timestamp": 1538402189825,
     "user": {
      "displayName": "Pieter Sap",
      "photoUrl": "",
      "userId": "15749761891409076289"
     },
     "user_tz": -120
    },
    "id": "YnUKi7pG4ufi",
    "outputId": "b416dd85-e391-4d77-8a1d-3ea1a323243d"
   },
   "outputs": [],
   "source": [
    "full_names = people[[\"name\",\"surname\"]]\n",
    "full_names"
   ]
  },
  {
   "cell_type": "code",
   "execution_count": null,
   "metadata": {
    "colab": {
     "base_uri": "https://localhost:8080/",
     "height": 34
    },
    "colab_type": "code",
    "collapsed": false,
    "executionInfo": {
     "elapsed": 468,
     "status": "ok",
     "timestamp": 1538402201657,
     "user": {
      "displayName": "Pieter Sap",
      "photoUrl": "",
      "userId": "15749761891409076289"
     },
     "user_tz": -120
    },
    "id": "dLhS2yv16p3J",
    "outputId": "799559a7-5312-41ff-b86e-b32bc02d0800"
   },
   "outputs": [],
   "source": [
    "type(full_names)"
   ]
  },
  {
   "cell_type": "markdown",
   "metadata": {
    "colab_type": "text",
    "id": "Xoi99utazfMd"
   },
   "source": [
    "# 2 Exploring the data\n",
    "\n"
   ]
  },
  {
   "cell_type": "code",
   "execution_count": null,
   "metadata": {
    "colab": {
     "base_uri": "https://localhost:8080/",
     "height": 136
    },
    "colab_type": "code",
    "collapsed": false,
    "executionInfo": {
     "elapsed": 455,
     "status": "ok",
     "timestamp": 1538403551501,
     "user": {
      "displayName": "Pieter Sap",
      "photoUrl": "",
      "userId": "15749761891409076289"
     },
     "user_tz": -120
    },
    "id": "WMHQcdIB_yql",
    "outputId": "d04eb0e1-11b9-41d0-906d-8c0994d20b5e"
   },
   "outputs": [],
   "source": [
    "people.head(3)"
   ]
  },
  {
   "cell_type": "code",
   "execution_count": null,
   "metadata": {
    "colab": {
     "base_uri": "https://localhost:8080/",
     "height": 136
    },
    "colab_type": "code",
    "collapsed": false,
    "executionInfo": {
     "elapsed": 551,
     "status": "ok",
     "timestamp": 1538403565980,
     "user": {
      "displayName": "Pieter Sap",
      "photoUrl": "",
      "userId": "15749761891409076289"
     },
     "user_tz": -120
    },
    "id": "XlhZL5fD_1Hv",
    "outputId": "482da648-267d-493c-dca5-d2c4a3e5a110"
   },
   "outputs": [],
   "source": [
    "people.tail(3)"
   ]
  },
  {
   "cell_type": "code",
   "execution_count": null,
   "metadata": {
    "colab": {
     "base_uri": "https://localhost:8080/",
     "height": 34
    },
    "colab_type": "code",
    "collapsed": false,
    "executionInfo": {
     "elapsed": 475,
     "status": "ok",
     "timestamp": 1538402565059,
     "user": {
      "displayName": "Pieter Sap",
      "photoUrl": "",
      "userId": "15749761891409076289"
     },
     "user_tz": -120
    },
    "id": "Yr4ZpsAn74RI",
    "outputId": "d4a6567d-5555-4154-ca1f-7c4a92bc9937"
   },
   "outputs": [],
   "source": [
    "# list of columns\n",
    "\n",
    "people.columns"
   ]
  },
  {
   "cell_type": "code",
   "execution_count": null,
   "metadata": {
    "colab": {
     "base_uri": "https://localhost:8080/",
     "height": 101
    },
    "colab_type": "code",
    "collapsed": false,
    "executionInfo": {
     "elapsed": 488,
     "status": "ok",
     "timestamp": 1538402610831,
     "user": {
      "displayName": "Pieter Sap",
      "photoUrl": "",
      "userId": "15749761891409076289"
     },
     "user_tz": -120
    },
    "id": "Yc5BrJed74Z5",
    "outputId": "76749bd1-fc56-498a-bfb5-4fb982717ec6"
   },
   "outputs": [],
   "source": [
    "# Each column has its own dtype\n",
    "\n",
    "people.dtypes\n"
   ]
  },
  {
   "cell_type": "markdown",
   "metadata": {
    "colab_type": "text",
    "id": "TCrFJImV_m6P"
   },
   "source": [
    "Basic statistics of numerical columns are found with describe(). In this case, there is only one numerical column."
   ]
  },
  {
   "cell_type": "code",
   "execution_count": null,
   "metadata": {
    "colab": {
     "base_uri": "https://localhost:8080/",
     "height": 284
    },
    "colab_type": "code",
    "collapsed": false,
    "executionInfo": {
     "elapsed": 553,
     "status": "ok",
     "timestamp": 1538403528180,
     "user": {
      "displayName": "Pieter Sap",
      "photoUrl": "",
      "userId": "15749761891409076289"
     },
     "user_tz": -120
    },
    "id": "6bZvAr6E_ifE",
    "outputId": "765cfa84-1b93-40d3-cb2c-9e8a2160953a"
   },
   "outputs": [],
   "source": [
    "people.describe()"
   ]
  },
  {
   "cell_type": "markdown",
   "metadata": {
    "colab_type": "text",
    "id": "mvBXErdJKo7P"
   },
   "source": [
    "Finding all unique values of one column"
   ]
  },
  {
   "cell_type": "code",
   "execution_count": null,
   "metadata": {
    "colab": {
     "base_uri": "https://localhost:8080/",
     "height": 34
    },
    "colab_type": "code",
    "collapsed": false,
    "executionInfo": {
     "elapsed": 436,
     "status": "ok",
     "timestamp": 1538406423213,
     "user": {
      "displayName": "Pieter Sap",
      "photoUrl": "",
      "userId": "15749761891409076289"
     },
     "user_tz": -120
    },
    "id": "GNsxU68FKsP_",
    "outputId": "36ba6414-1661-4255-c8f8-593dddce5c3d"
   },
   "outputs": [],
   "source": [
    "people[\"age\"].unique() #returns a numpy array\n"
   ]
  },
  {
   "cell_type": "markdown",
   "metadata": {
    "colab_type": "text",
    "id": "CDadRo6t89Gl"
   },
   "source": [
    "A plot of a series is easily made with the built-in plot() method. Different kinds of plots are possible.\n",
    "\n",
    "the horizontal axes is the INDEX, the vertical axis is the value. "
   ]
  },
  {
   "cell_type": "code",
   "execution_count": null,
   "metadata": {
    "colab": {
     "base_uri": "https://localhost:8080/",
     "height": 195
    },
    "colab_type": "code",
    "collapsed": false,
    "executionInfo": {
     "elapsed": 493,
     "status": "ok",
     "timestamp": 1538402835097,
     "user": {
      "displayName": "Pieter Sap",
      "photoUrl": "",
      "userId": "15749761891409076289"
     },
     "user_tz": -120
    },
    "id": "7ABEGAAI9EVu",
    "outputId": "d3d89d15-9275-4042-abca-e5c01069b2d7"
   },
   "outputs": [],
   "source": [
    "people.head()"
   ]
  },
  {
   "cell_type": "code",
   "execution_count": null,
   "metadata": {
    "colab": {
     "base_uri": "https://localhost:8080/",
     "height": 364
    },
    "colab_type": "code",
    "collapsed": false,
    "executionInfo": {
     "elapsed": 723,
     "status": "ok",
     "timestamp": 1538403332908,
     "user": {
      "displayName": "Pieter Sap",
      "photoUrl": "",
      "userId": "15749761891409076289"
     },
     "user_tz": -120
    },
    "id": "ogcD9RU48d4L",
    "outputId": "fa0f6400-600f-4f71-b19f-11064137c43d"
   },
   "outputs": [],
   "source": [
    "people[\"age\"].plot(kind=\"line\")\n",
    "\n"
   ]
  },
  {
   "cell_type": "markdown",
   "metadata": {
    "colab_type": "text",
    "id": "qHkC_EFU9JSB"
   },
   "source": [
    "The plot above does not make much sense. By using value_counts() on a Series we get a new Series with all unique values are their count. The unique values are the index of this series. \n"
   ]
  },
  {
   "cell_type": "code",
   "execution_count": null,
   "metadata": {
    "colab": {
     "base_uri": "https://localhost:8080/",
     "height": 101
    },
    "colab_type": "code",
    "collapsed": false,
    "executionInfo": {
     "elapsed": 456,
     "status": "ok",
     "timestamp": 1538403452474,
     "user": {
      "displayName": "Pieter Sap",
      "photoUrl": "",
      "userId": "15749761891409076289"
     },
     "user_tz": -120
    },
    "id": "jzAl6EBg9Iug",
    "outputId": "afab90d1-49c8-45d7-8ed1-b4b2d8d0267b"
   },
   "outputs": [],
   "source": [
    "counts = people[\"age\"].value_counts()\n",
    "counts"
   ]
  },
  {
   "cell_type": "code",
   "execution_count": null,
   "metadata": {
    "colab": {
     "base_uri": "https://localhost:8080/",
     "height": 365
    },
    "colab_type": "code",
    "collapsed": false,
    "executionInfo": {
     "elapsed": 473,
     "status": "ok",
     "timestamp": 1538403464485,
     "user": {
      "displayName": "Pieter Sap",
      "photoUrl": "",
      "userId": "15749761891409076289"
     },
     "user_tz": -120
    },
    "id": "o7E1_kzC85EI",
    "outputId": "b5983f23-cdd3-4330-82a1-8757ab7f8cd2"
   },
   "outputs": [],
   "source": [
    "counts.plot(kind=\"bar\")"
   ]
  },
  {
   "cell_type": "markdown",
   "metadata": {
    "colab_type": "text",
    "id": "heKqTK2E6yKd"
   },
   "source": [
    "# 3 Selecting data and manipulations"
   ]
  },
  {
   "cell_type": "code",
   "execution_count": null,
   "metadata": {
    "colab": {
     "base_uri": "https://localhost:8080/",
     "height": 195
    },
    "colab_type": "code",
    "collapsed": false,
    "executionInfo": {
     "elapsed": 498,
     "status": "ok",
     "timestamp": 1538403990975,
     "user": {
      "displayName": "Pieter Sap",
      "photoUrl": "",
      "userId": "15749761891409076289"
     },
     "user_tz": -120
    },
    "id": "cjDZrZ_C6xIs",
    "outputId": "5cc14f23-e3ad-4fce-f5ba-1fdfbebb70af"
   },
   "outputs": [],
   "source": [
    "people"
   ]
  },
  {
   "cell_type": "markdown",
   "metadata": {
    "colab_type": "text",
    "id": "KslOfvjYzfOh"
   },
   "source": []
  },
  {
   "cell_type": "code",
   "execution_count": null,
   "metadata": {
    "colab": {
     "base_uri": "https://localhost:8080/",
     "height": 106
    },
    "colab_type": "code",
    "collapsed": false,
    "executionInfo": {
     "elapsed": 452,
     "status": "ok",
     "timestamp": 1538404053702,
     "user": {
      "displayName": "Pieter Sap",
      "photoUrl": "",
      "userId": "15749761891409076289"
     },
     "user_tz": -120
    },
    "id": "zDwO0XLxBkqL",
    "outputId": "88d7220b-f1fb-4c25-da14-1dbaa166e5a5"
   },
   "outputs": [],
   "source": [
    "people[0:2] #just like in numpy"
   ]
  },
  {
   "cell_type": "code",
   "execution_count": null,
   "metadata": {
    "colab": {
     "base_uri": "https://localhost:8080/",
     "height": 136
    },
    "colab_type": "code",
    "collapsed": false,
    "executionInfo": {
     "elapsed": 445,
     "status": "ok",
     "timestamp": 1538404086749,
     "user": {
      "displayName": "Pieter Sap",
      "photoUrl": "",
      "userId": "15749761891409076289"
     },
     "user_tz": -120
    },
    "id": "IF2QaicnBvm_",
    "outputId": "3447e36f-ed3d-42d9-9198-d08cc95cd009"
   },
   "outputs": [],
   "source": [
    "people[0:5:2]"
   ]
  },
  {
   "cell_type": "code",
   "execution_count": null,
   "metadata": {
    "colab": {
     "base_uri": "https://localhost:8080/",
     "height": 84
    },
    "colab_type": "code",
    "collapsed": false,
    "executionInfo": {
     "elapsed": 636,
     "status": "ok",
     "timestamp": 1538404101668,
     "user": {
      "displayName": "Pieter Sap",
      "photoUrl": "",
      "userId": "15749761891409076289"
     },
     "user_tz": -120
    },
    "id": "nbL6asESBmUk",
    "outputId": "2a284827-da72-4820-ebd3-86977f9a444b"
   },
   "outputs": [],
   "source": [
    "people[\"surname\"][0:5:2]"
   ]
  },
  {
   "cell_type": "markdown",
   "metadata": {
    "colab_type": "text",
    "id": "5B1re0nXCgmT"
   },
   "source": [
    "Series have behaviour similar to numpy arrays. Let's do some operations on the Series (columns). In particular, notice the broadcasting.."
   ]
  },
  {
   "cell_type": "code",
   "execution_count": null,
   "metadata": {
    "colab": {
     "base_uri": "https://localhost:8080/",
     "height": 118
    },
    "colab_type": "code",
    "collapsed": false,
    "executionInfo": {
     "elapsed": 594,
     "status": "ok",
     "timestamp": 1538404693012,
     "user": {
      "displayName": "Pieter Sap",
      "photoUrl": "",
      "userId": "15749761891409076289"
     },
     "user_tz": -120
    },
    "id": "j_d_rSUVB-Ok",
    "outputId": "801bb956-9e44-4336-c8fc-d70ead0828b7"
   },
   "outputs": [],
   "source": [
    "#returns another Series object. Notice broadcasting.\n",
    "\n",
    "people[\"age\"] > 40"
   ]
  },
  {
   "cell_type": "code",
   "execution_count": null,
   "metadata": {
    "colab": {},
    "colab_type": "code",
    "collapsed": true,
    "id": "MZ0VfuuSELFj"
   },
   "outputs": [],
   "source": [
    "# add a column with full name\n",
    "# columns can be added on the fly (similar to a Python dictionary, where key-value pairs can be added on the fly)\n",
    "# notice broadcasting\n",
    "\n",
    "people[\"fullName\"] = people[\"name\"]+\" \"+people[\"surname\"]"
   ]
  },
  {
   "cell_type": "code",
   "execution_count": null,
   "metadata": {
    "colab": {
     "base_uri": "https://localhost:8080/",
     "height": 195
    },
    "colab_type": "code",
    "collapsed": false,
    "executionInfo": {
     "elapsed": 405,
     "status": "ok",
     "timestamp": 1538404896132,
     "user": {
      "displayName": "Pieter Sap",
      "photoUrl": "",
      "userId": "15749761891409076289"
     },
     "user_tz": -120
    },
    "id": "8xd4bTWcE6Wr",
    "outputId": "7554e2ec-820b-4dab-b8e2-7a8292877b0a"
   },
   "outputs": [],
   "source": [
    "people.head()"
   ]
  },
  {
   "cell_type": "markdown",
   "metadata": {
    "colab_type": "text",
    "id": "HawAihGOLk6P"
   },
   "source": [
    "make everybody 5 years older"
   ]
  },
  {
   "cell_type": "code",
   "execution_count": null,
   "metadata": {
    "colab": {
     "base_uri": "https://localhost:8080/",
     "height": 195
    },
    "colab_type": "code",
    "collapsed": false,
    "executionInfo": {
     "elapsed": 628,
     "status": "ok",
     "timestamp": 1538404923592,
     "user": {
      "displayName": "Pieter Sap",
      "photoUrl": "",
      "userId": "15749761891409076289"
     },
     "user_tz": -120
    },
    "id": "u4ld_3iHE8t4",
    "outputId": "3d6c2501-d786-4cea-da12-b6225c340b96"
   },
   "outputs": [],
   "source": [
    "\n",
    "people[\"age\"] = people[\"age\"]+5\n",
    "people.head()"
   ]
  },
  {
   "cell_type": "markdown",
   "metadata": {
    "colab_type": "text",
    "id": "YT6VEn07LhvY"
   },
   "source": [
    "Slicing with a boolean Series is a nice way to filter your dataset"
   ]
  },
  {
   "cell_type": "code",
   "execution_count": null,
   "metadata": {
    "colab": {
     "base_uri": "https://localhost:8080/",
     "height": 118
    },
    "colab_type": "code",
    "collapsed": false,
    "executionInfo": {
     "elapsed": 416,
     "status": "ok",
     "timestamp": 1538405018671,
     "user": {
      "displayName": "Pieter Sap",
      "photoUrl": "",
      "userId": "15749761891409076289"
     },
     "user_tz": -120
    },
    "id": "YuqpWQYbFDXi",
    "outputId": "ab6677b4-4e85-4317-c448-570c951d5ca3"
   },
   "outputs": [],
   "source": [
    "\n",
    "people[\"age\"] > 40"
   ]
  },
  {
   "cell_type": "code",
   "execution_count": null,
   "metadata": {
    "colab": {
     "base_uri": "https://localhost:8080/",
     "height": 136
    },
    "colab_type": "code",
    "collapsed": false,
    "executionInfo": {
     "elapsed": 402,
     "status": "ok",
     "timestamp": 1538405067533,
     "user": {
      "displayName": "Pieter Sap",
      "photoUrl": "",
      "userId": "15749761891409076289"
     },
     "user_tz": -120
    },
    "id": "Nm_vaMoxFaoj",
    "outputId": "b2daab1d-88bd-42bc-ebf2-baf68d6fbfe4"
   },
   "outputs": [],
   "source": [
    "old_people = people[people[\"age\"] > 40]\n",
    "old_people"
   ]
  },
  {
   "cell_type": "markdown",
   "metadata": {
    "colab_type": "text",
    "id": "2chBJaikLoPE"
   },
   "source": [
    "drop a column"
   ]
  },
  {
   "cell_type": "code",
   "execution_count": null,
   "metadata": {
    "colab": {
     "base_uri": "https://localhost:8080/",
     "height": 195
    },
    "colab_type": "code",
    "collapsed": false,
    "executionInfo": {
     "elapsed": 408,
     "status": "ok",
     "timestamp": 1538405146193,
     "user": {
      "displayName": "Pieter Sap",
      "photoUrl": "",
      "userId": "15749761891409076289"
     },
     "user_tz": -120
    },
    "id": "keqotvf5Fmjl",
    "outputId": "40abe347-aad0-489d-ca69-761b6791759f"
   },
   "outputs": [],
   "source": [
    "people_2 = people.drop(columns=[\"age\",\"location\"])\n",
    "people_2.head()"
   ]
  },
  {
   "cell_type": "markdown",
   "metadata": {
    "colab_type": "text",
    "id": "fFhntFoGLwyf"
   },
   "source": [
    "rename a column"
   ]
  },
  {
   "cell_type": "code",
   "execution_count": null,
   "metadata": {
    "colab": {
     "base_uri": "https://localhost:8080/",
     "height": 195
    },
    "colab_type": "code",
    "collapsed": false,
    "executionInfo": {
     "elapsed": 503,
     "status": "ok",
     "timestamp": 1538406841078,
     "user": {
      "displayName": "Pieter Sap",
      "photoUrl": "",
      "userId": "15749761891409076289"
     },
     "user_tz": -120
    },
    "id": "aBWmTZthF5vs",
    "outputId": "f7690dcb-9a88-487f-c3e1-30fa54cf5c3a"
   },
   "outputs": [],
   "source": [
    "people_renamed = people.rename(columns={\"location\":\"country\"})\n",
    "people_renamed.head()"
   ]
  },
  {
   "cell_type": "markdown",
   "metadata": {
    "colab_type": "text",
    "id": "NH1X5ocdMZlN"
   },
   "source": [
    "Drop a column (in-place)"
   ]
  },
  {
   "cell_type": "code",
   "execution_count": null,
   "metadata": {
    "colab": {
     "base_uri": "https://localhost:8080/",
     "height": 195
    },
    "colab_type": "code",
    "collapsed": false,
    "executionInfo": {
     "elapsed": 461,
     "status": "ok",
     "timestamp": 1538406900240,
     "user": {
      "displayName": "Pieter Sap",
      "photoUrl": "",
      "userId": "15749761891409076289"
     },
     "user_tz": -120
    },
    "id": "n8-Pqc3CMeL_",
    "outputId": "59585270-c5fa-4dfa-94b2-c6df093c17e9"
   },
   "outputs": [],
   "source": [
    "people.drop(columns=\"age\",inplace=True) #default: inplace = False\n",
    "people"
   ]
  },
  {
   "cell_type": "markdown",
   "metadata": {
    "colab_type": "text",
    "id": "XZX4K-R9MZqE"
   },
   "source": [
    "Rename a column (in-place)"
   ]
  },
  {
   "cell_type": "code",
   "execution_count": null,
   "metadata": {
    "colab": {
     "base_uri": "https://localhost:8080/",
     "height": 195
    },
    "colab_type": "code",
    "collapsed": false,
    "executionInfo": {
     "elapsed": 475,
     "status": "ok",
     "timestamp": 1538406952944,
     "user": {
      "displayName": "Pieter Sap",
      "photoUrl": "",
      "userId": "15749761891409076289"
     },
     "user_tz": -120
    },
    "id": "2Tmq-dO7MpvB",
    "outputId": "92df93fd-4254-41b5-ad9c-f875dd8b35fc"
   },
   "outputs": [],
   "source": [
    "people.rename(columns={\"location\":\"country\"},inplace=True) #default: inplace = False\n",
    "people"
   ]
  },
  {
   "cell_type": "markdown",
   "metadata": {
    "colab_type": "text",
    "id": "A0Hpq9ztK7io"
   },
   "source": [
    "**This has been a very limited overview to become familier with the concept of Pandas. We will not explore all functionality of Pandas in this notebook. During the exercises we will use Pandas to analyse real datasets.**"
   ]
  },
  {
   "cell_type": "markdown",
   "metadata": {
    "colab_type": "text",
    "id": "lQkNHln4Nl3L"
   },
   "source": [
    "# 4 Exercise"
   ]
  },
  {
   "cell_type": "code",
   "execution_count": null,
   "metadata": {
    "colab": {
     "base_uri": "https://localhost:8080/",
     "height": 195
    },
    "colab_type": "code",
    "collapsed": false,
    "executionInfo": {
     "elapsed": 454,
     "status": "ok",
     "timestamp": 1538407339565,
     "user": {
      "displayName": "Pieter Sap",
      "photoUrl": "",
      "userId": "15749761891409076289"
     },
     "user_tz": -120
    },
    "id": "GWjZZhIjLZoV",
    "outputId": "fffd9c04-010d-4084-97f5-f9ade90ecfaf"
   },
   "outputs": [],
   "source": [
    "# read the dataframe\n",
    "people = pd.read_csv(\"/content/drive/My Drive/xylosai/intro/people.csv\",header=0)\n",
    "people"
   ]
  },
  {
   "cell_type": "markdown",
   "metadata": {
    "colab_type": "text",
    "id": "6g07sB4oQ4gr"
   },
   "source": [
    "Operations on columns (Series) behave as Numpy arrays and support broadcasting.\n",
    "\n",
    "From the age column, create a new boolean Series where each record is True if the person's age is older than 20 and younger than 60, and False otherwise."
   ]
  },
  {
   "cell_type": "code",
   "execution_count": null,
   "metadata": {
    "colab": {
     "base_uri": "https://localhost:8080/",
     "height": 118
    },
    "colab_type": "code",
    "collapsed": false,
    "executionInfo": {
     "elapsed": 462,
     "status": "ok",
     "timestamp": 1538408258463,
     "user": {
      "displayName": "Pieter Sap",
      "photoUrl": "",
      "userId": "15749761891409076289"
     },
     "user_tz": -120
    },
    "id": "kjhCFwyJRAux",
    "outputId": "d26121e0-b2bd-4418-aeca-9ba7d587b9d8"
   },
   "outputs": [],
   "source": [
    "boolean_series = (people[\"age\"] < 60) & (people[\"age\"] >20)\n",
    "boolean_series"
   ]
  },
  {
   "cell_type": "markdown",
   "metadata": {
    "colab_type": "text",
    "id": "0KGErYEQROvo"
   },
   "source": [
    "create a dataframe from the original with all people older than 20 but younger than 60"
   ]
  },
  {
   "cell_type": "code",
   "execution_count": null,
   "metadata": {
    "colab": {
     "base_uri": "https://localhost:8080/",
     "height": 136
    },
    "colab_type": "code",
    "collapsed": false,
    "executionInfo": {
     "elapsed": 442,
     "status": "ok",
     "timestamp": 1538408264852,
     "user": {
      "displayName": "Pieter Sap",
      "photoUrl": "",
      "userId": "15749761891409076289"
     },
     "user_tz": -120
    },
    "id": "HPXmdaotNyT8",
    "outputId": "44ff7f2d-036c-4029-9696-c725888dd6cc"
   },
   "outputs": [],
   "source": [
    " \n",
    "dataframe_2 = people[(people[\"age\"] < 60) & (people[\"age\"] >20)]\n",
    "dataframe_2"
   ]
  },
  {
   "cell_type": "markdown",
   "metadata": {
    "colab_type": "text",
    "id": "KJJhUo6iQ0MU"
   },
   "source": []
  },
  {
   "cell_type": "code",
   "execution_count": null,
   "metadata": {
    "colab": {},
    "colab_type": "code",
    "collapsed": true,
    "id": "0B3f-MZlOdND"
   },
   "outputs": [],
   "source": []
  }
 ],
 "metadata": {
  "colab": {
   "collapsed_sections": [],
   "name": "notebook_3_pandas.ipynb",
   "provenance": [],
   "toc_visible": true,
   "version": "0.3.2"
  },
  "kernelspec": {
   "display_name": "Python 2",
   "language": "python",
   "name": "python2"
  },
  "language_info": {
   "codemirror_mode": {
    "name": "ipython",
    "version": 2
   },
   "file_extension": ".py",
   "mimetype": "text/x-python",
   "name": "python",
   "nbconvert_exporter": "python",
   "pygments_lexer": "ipython2",
   "version": "2.7.11"
  }
 },
 "nbformat": 4,
 "nbformat_minor": 0
}
