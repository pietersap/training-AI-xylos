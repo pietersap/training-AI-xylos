{
 "cells": [
  {
   "cell_type": "markdown",
   "metadata": {
    "colab_type": "text",
    "id": "hDd_HQgOSfcS"
   },
   "source": [
    "# NOTEBOOK 1: INTRO TO PYTHON AND JUPYTER NOTEBOOKS"
   ]
  },
  {
   "cell_type": "markdown",
   "metadata": {
    "colab_type": "text",
    "id": "bdTGkPcySfcV"
   },
   "source": [
    "Python is the preferred language for Data Scientists. It runs on an interpreter system, meaning that code can be executed interactively as soon as it is written. Python can be used in a procedural, object-oriented or functional way.  \n",
    "\n",
    "The advantages of python include:\n",
    "1. An intuitive syntax\n",
    "2. A large and active community of developers\n",
    "3. Powerful libraries for Data Science and AI\n",
    "\n",
    "This notebook is not a full introduction to programming in Python. Instead, it simply gives a quick overview (cheatsheet) of **basic Python functionality**, caveats and **what makes Python different** from other language. A large part of this notebook is trivial..."
   ]
  },
  {
   "cell_type": "markdown",
   "metadata": {
    "colab_type": "text",
    "id": "WpFBt2vOSfcW"
   },
   "source": [
    "# 0 Setup\n",
    "\n",
    "Install python 3.X and Jupyter"
   ]
  },
  {
   "cell_type": "markdown",
   "metadata": {
    "colab_type": "text",
    "id": "bQVUKvkDSfcX"
   },
   "source": [
    "# 1 Variables\n",
    "\n",
    "There is no need to declare a variable with a particular type."
   ]
  },
  {
   "cell_type": "code",
   "execution_count": null,
   "metadata": {
    "colab": {},
    "colab_type": "code",
    "collapsed": false,
    "id": "JnSv6m44SfcY",
    "outputId": "6f750ef3-623f-48c2-bf57-1491458e648a"
   },
   "outputs": [],
   "source": [
    "a = 5\n",
    "b = 4\n",
    "c = a + b\n",
    "d = a*b\n",
    "print(c)\n",
    "print(d)"
   ]
  },
  {
   "cell_type": "code",
   "execution_count": null,
   "metadata": {
    "colab": {},
    "colab_type": "code",
    "collapsed": false,
    "id": "KtcpajccSfcg",
    "outputId": "c5373d90-dd77-46db-9aed-c13aec5369df"
   },
   "outputs": [],
   "source": [
    "a ** 2"
   ]
  },
  {
   "cell_type": "code",
   "execution_count": null,
   "metadata": {
    "colab": {},
    "colab_type": "code",
    "collapsed": false,
    "id": "eSPE5g4ESfck",
    "outputId": "6a3a54c6-35d4-48d4-b98d-f53d5bbbf625"
   },
   "outputs": [],
   "source": [
    "f = 5.0\n",
    "type(f)"
   ]
  },
  {
   "cell_type": "markdown",
   "metadata": {
    "colab_type": "text",
    "id": "l3xpeSRISfcp"
   },
   "source": [
    "For a quick test of a single statement, just send the result to the output instead of using print..."
   ]
  },
  {
   "cell_type": "code",
   "execution_count": null,
   "metadata": {
    "colab": {},
    "colab_type": "code",
    "collapsed": false,
    "id": "px-k53PrSfcq",
    "outputId": "c9d204b8-fa04-422e-bc13-cee3a2f6a611"
   },
   "outputs": [],
   "source": [
    "a+b"
   ]
  },
  {
   "cell_type": "markdown",
   "metadata": {
    "colab_type": "text",
    "id": "7XaS1xxjSfcu"
   },
   "source": [
    "Jupyter notebooks: defined variables are accessible in all cells. Cells can be run in any order. Restarting the kernel deletes all variables. Deleting the cells above will not remote the variables a and b."
   ]
  },
  {
   "cell_type": "markdown",
   "metadata": {
    "colab_type": "text",
    "id": "5d92Fx7rSfcw"
   },
   "source": [
    "A variable can easily be bound to objects of a different type..."
   ]
  },
  {
   "cell_type": "code",
   "execution_count": null,
   "metadata": {
    "colab": {},
    "colab_type": "code",
    "collapsed": false,
    "id": "REOg4Nu1Sfcx",
    "outputId": "db5eb496-9434-4bd0-feba-580b43261e31"
   },
   "outputs": [],
   "source": [
    "a = \"test\"\n",
    "print(a)\n",
    "print(type(a))"
   ]
  },
  {
   "cell_type": "markdown",
   "metadata": {
    "colab_type": "text",
    "id": "f-jpxY5QSfc1"
   },
   "source": [
    "But the interpreter will not always change the type by itself..."
   ]
  },
  {
   "cell_type": "code",
   "execution_count": null,
   "metadata": {
    "colab": {},
    "colab_type": "code",
    "collapsed": false,
    "id": "yw4QTFDGSfc2",
    "outputId": "05ebf131-c139-451c-b079-6483be3402d8"
   },
   "outputs": [],
   "source": [
    "a = \"test\"\n",
    "b = 5\n",
    "\n",
    "c = a + b\n",
    "print(c)"
   ]
  },
  {
   "cell_type": "markdown",
   "metadata": {
    "colab_type": "text",
    "id": "gGpZRJhOSfc9"
   },
   "source": [
    "# 2 List, tuples and dictionarys"
   ]
  },
  {
   "cell_type": "markdown",
   "metadata": {
    "colab_type": "text",
    "id": "_mEg9sWtSfc-"
   },
   "source": [
    "## 2.1 List\n",
    "\n",
    "Lists can contain any kind of datatypes. Elements in a list can be retrieved by index."
   ]
  },
  {
   "cell_type": "code",
   "execution_count": null,
   "metadata": {
    "colab": {},
    "colab_type": "code",
    "collapsed": false,
    "id": "FxMbbHOSSfc-",
    "outputId": "07f53bbe-09eb-4fcd-fc37-46b2263aab92"
   },
   "outputs": [],
   "source": [
    "my_list = [5, 6, 7, \"banana\"]\n",
    "type(my_list)"
   ]
  },
  {
   "cell_type": "markdown",
   "metadata": {
    "colab_type": "text",
    "id": "-N4rOv6tSfdE"
   },
   "source": [
    "Indexes start at 0. Negative indexes count backwards in the list."
   ]
  },
  {
   "cell_type": "code",
   "execution_count": null,
   "metadata": {
    "colab": {},
    "colab_type": "code",
    "collapsed": false,
    "id": "QcXHt5CJSfdE",
    "outputId": "e107d1aa-ebe4-4114-d41e-bcf5128d371b"
   },
   "outputs": [],
   "source": [
    "print(my_list[0])\n",
    "print(my_list[3])\n",
    "print(my_list[-1])"
   ]
  },
  {
   "cell_type": "code",
   "execution_count": null,
   "metadata": {
    "colab": {},
    "colab_type": "code",
    "collapsed": false,
    "id": "KpymeXObSfdN",
    "outputId": "e3f585ee-9398-4bd0-b312-74de830e7307"
   },
   "outputs": [],
   "source": [
    "my_list[1:3] #index 1 included, index 3 not included"
   ]
  },
  {
   "cell_type": "code",
   "execution_count": null,
   "metadata": {
    "colab": {},
    "colab_type": "code",
    "collapsed": false,
    "id": "F4GGPJ5gSfdR",
    "outputId": "2cd8f672-0a74-4a1a-e409-2ba992bab5cd"
   },
   "outputs": [],
   "source": [
    "print(my_list[1:])\n",
    "print(my_list[:-1])"
   ]
  },
  {
   "cell_type": "markdown",
   "metadata": {
    "colab_type": "text",
    "id": "hAvMBLUxSfdU"
   },
   "source": [
    "Lists are mutable"
   ]
  },
  {
   "cell_type": "code",
   "execution_count": null,
   "metadata": {
    "colab": {},
    "colab_type": "code",
    "collapsed": false,
    "id": "RZFpukUWSfdU",
    "outputId": "9500672b-1eef-44e1-a027-55f30aad8d0e"
   },
   "outputs": [],
   "source": [
    "my_list"
   ]
  },
  {
   "cell_type": "code",
   "execution_count": null,
   "metadata": {
    "colab": {},
    "colab_type": "code",
    "collapsed": false,
    "id": "Eoyan2cxSfdZ",
    "outputId": "6cb8bfa5-808a-4ed3-c62c-f498f30534e5"
   },
   "outputs": [],
   "source": [
    "my_list[3] = \"apple\"\n",
    "my_list"
   ]
  },
  {
   "cell_type": "code",
   "execution_count": null,
   "metadata": {
    "colab": {},
    "colab_type": "code",
    "collapsed": false,
    "id": "H6DA4qKFSfdd",
    "outputId": "f5c1a710-d571-4292-c0de-421b7ae094cc"
   },
   "outputs": [],
   "source": [
    "len(my_list)"
   ]
  },
  {
   "cell_type": "markdown",
   "metadata": {
    "colab_type": "text",
    "id": "_eDUPPwMSfdl"
   },
   "source": [
    "## 2.2 Tuple"
   ]
  },
  {
   "cell_type": "markdown",
   "metadata": {
    "colab_type": "text",
    "id": "MPOaldq-Sfdm"
   },
   "source": [
    "Tuples are like lists..."
   ]
  },
  {
   "cell_type": "code",
   "execution_count": null,
   "metadata": {
    "colab": {},
    "colab_type": "code",
    "collapsed": false,
    "id": "VvahRgxySfdn",
    "outputId": "3b1fc6f1-96c6-45cf-9c3e-8419fa33629c"
   },
   "outputs": [],
   "source": [
    "my_tuple = (4,5,6,\"banana\")\n",
    "type(my_tuple)"
   ]
  },
  {
   "cell_type": "code",
   "execution_count": null,
   "metadata": {
    "colab": {},
    "colab_type": "code",
    "collapsed": false,
    "id": "E6_StGtCSfdq",
    "outputId": "1661ff2b-31cd-45ed-8f17-9581ae913643"
   },
   "outputs": [],
   "source": [
    "my_tuple[0]"
   ]
  },
  {
   "cell_type": "markdown",
   "metadata": {
    "colab_type": "text",
    "id": "vCK8OFfdSfdu"
   },
   "source": [
    "...but a tuple is immutable:"
   ]
  },
  {
   "cell_type": "code",
   "execution_count": null,
   "metadata": {
    "colab": {},
    "colab_type": "code",
    "collapsed": false,
    "id": "qiRa0tpTSfdu",
    "outputId": "3a9dff2f-165f-421c-f9c5-814146e7ad82"
   },
   "outputs": [],
   "source": [
    "my_tuple[3] = \"apple\""
   ]
  },
  {
   "cell_type": "markdown",
   "metadata": {
    "colab_type": "text",
    "id": "3OMJRZkDSfdy"
   },
   "source": [
    "## 2.3 Dictionary\n",
    "\n",
    "A dictionary stores key-values pairs. There is no ordering, values can be of any type and are retrieved by their keys. Keys are always strings"
   ]
  },
  {
   "cell_type": "code",
   "execution_count": null,
   "metadata": {
    "colab": {},
    "colab_type": "code",
    "collapsed": true,
    "id": "SRJVn1L4Sfdz"
   },
   "outputs": [],
   "source": [
    "a = {\"key1\":\"value1\",\"key2\":8,\"key3\":my_tuple}"
   ]
  },
  {
   "cell_type": "code",
   "execution_count": null,
   "metadata": {
    "colab": {},
    "colab_type": "code",
    "collapsed": false,
    "id": "qEgGfpnmSfd2",
    "outputId": "8042d434-c661-4dd0-defd-764d9955c29d"
   },
   "outputs": [],
   "source": [
    "a[\"key1\"]"
   ]
  },
  {
   "cell_type": "code",
   "execution_count": null,
   "metadata": {
    "colab": {},
    "colab_type": "code",
    "collapsed": false,
    "id": "LEKRZsuGSfd6",
    "outputId": "b6cf46e4-11c9-46b3-f8de-43dbd0800ba1"
   },
   "outputs": [],
   "source": [
    "a[\"key3\"]"
   ]
  },
  {
   "cell_type": "markdown",
   "metadata": {
    "colab_type": "text",
    "id": "KVajZ9MdSfd9"
   },
   "source": [
    "# 2 Functions"
   ]
  },
  {
   "cell_type": "markdown",
   "metadata": {
    "colab_type": "text",
    "id": "V43urYlASfd_"
   },
   "source": [
    "## 2.1 Basics"
   ]
  },
  {
   "cell_type": "markdown",
   "metadata": {
    "colab_type": "text",
    "id": "tqS3Ap2cSfeF"
   },
   "source": [
    "Code blocks are distinguised with indents, unlike other programming languages where blocks are seperated in a different way (e.g. with curly brackets {...} in Java and Javascript)"
   ]
  },
  {
   "cell_type": "code",
   "execution_count": null,
   "metadata": {
    "colab": {},
    "colab_type": "code",
    "collapsed": true,
    "id": "rIYAvjIiSfeH"
   },
   "outputs": [],
   "source": [
    "# defining a function\n",
    "\n",
    "def add_variables(a, b):\n",
    "    result = a + b\n",
    "    return result"
   ]
  },
  {
   "cell_type": "markdown",
   "metadata": {
    "colab_type": "text",
    "id": "4Hghxmn6SfeK"
   },
   "source": [
    "note: adding comments in Python code is done with the #-symbol. Anything after this symbol will be ignored by the interpreter and will not be run."
   ]
  },
  {
   "cell_type": "code",
   "execution_count": null,
   "metadata": {
    "colab": {},
    "colab_type": "code",
    "collapsed": false,
    "id": "L_UvE_CKSfeL",
    "outputId": "6372e4b4-3e5a-44fe-fa11-80da6b4da9a1"
   },
   "outputs": [],
   "source": [
    "# calling a function\n",
    "\n",
    "sum_numbers = add_variables(6,8)\n",
    "print(sum_numbers)"
   ]
  },
  {
   "cell_type": "markdown",
   "metadata": {
    "colab_type": "text",
    "id": "LOTnllg5SfeV"
   },
   "source": [
    "## 2.2 Calling a function"
   ]
  },
  {
   "cell_type": "markdown",
   "metadata": {
    "colab_type": "text",
    "id": "bB0nwz4NSfeW"
   },
   "source": [
    "When calling the function, a distinction is made between **Positional arguments** (parameters) and **keyword arguments**. **Positional parameters** must always be given first. Afterwards, other variables can be given as key-value pairs in any order, or without keys in the correct order.\n",
    "\n",
    "Examples:"
   ]
  },
  {
   "cell_type": "code",
   "execution_count": null,
   "metadata": {
    "colab": {},
    "colab_type": "code",
    "collapsed": true,
    "id": "VzwHXTZASfeX"
   },
   "outputs": [],
   "source": [
    "def calculate(a,b,c,d):\n",
    "    return a + b + c - d"
   ]
  },
  {
   "cell_type": "code",
   "execution_count": null,
   "metadata": {
    "colab": {},
    "colab_type": "code",
    "collapsed": false,
    "id": "Np1eqD6VSfeb",
    "outputId": "60ad7e14-d636-465f-b14a-606fd92e0379"
   },
   "outputs": [],
   "source": [
    "calculate(1,2,3,4)"
   ]
  },
  {
   "cell_type": "code",
   "execution_count": null,
   "metadata": {
    "colab": {},
    "colab_type": "code",
    "collapsed": false,
    "id": "WK9SIjVMSfef",
    "outputId": "a543e3b2-0b99-456c-894c-1244c9057c0e"
   },
   "outputs": [],
   "source": [
    "calculate(a=1,b=2,d=4,c=3)"
   ]
  },
  {
   "cell_type": "code",
   "execution_count": null,
   "metadata": {
    "colab": {},
    "colab_type": "code",
    "collapsed": false,
    "id": "lFPyRWi4Sfel",
    "outputId": "ae2e8607-9bc2-42c3-c8fe-51bfd01e8a80"
   },
   "outputs": [],
   "source": [
    "calculate(1,2,c=3,d=4)"
   ]
  },
  {
   "cell_type": "code",
   "execution_count": null,
   "metadata": {
    "colab": {},
    "colab_type": "code",
    "collapsed": false,
    "id": "psNNTvfJSfen",
    "outputId": "c643a30f-dc9f-45f4-c8e5-7e215ceb09f1"
   },
   "outputs": [],
   "source": [
    "# ERROR\n",
    "calculate(a=1, b=2,3,4)"
   ]
  },
  {
   "cell_type": "markdown",
   "metadata": {
    "colab_type": "text",
    "id": "iip56xMaSfes"
   },
   "source": [
    "When defining a function, **default values** can be set for all parameters. When a parameter is not given when calling the function, the default value will be used. Values with defaults always come after parameters without defaults."
   ]
  },
  {
   "cell_type": "code",
   "execution_count": null,
   "metadata": {
    "colab": {},
    "colab_type": "code",
    "collapsed": true,
    "id": "djy-REfESfes"
   },
   "outputs": [],
   "source": [
    "def add_variables_2(a,b=10):\n",
    "    result = a + b\n",
    "    return result"
   ]
  },
  {
   "cell_type": "code",
   "execution_count": null,
   "metadata": {
    "colab": {},
    "colab_type": "code",
    "collapsed": false,
    "id": "vRHGRxngSfew",
    "outputId": "710c5af2-bef2-4b49-84be-c3c4597e650e"
   },
   "outputs": [],
   "source": [
    "#ERROR\n",
    "def add_variables_2(b=10,a):\n",
    "    result = (a+b)\n",
    "    return result"
   ]
  },
  {
   "cell_type": "code",
   "execution_count": null,
   "metadata": {
    "colab": {},
    "colab_type": "code",
    "collapsed": false,
    "id": "v4deMBjhSfez",
    "outputId": "5915d0c9-4493-40ce-f038-f5fd9284ed21"
   },
   "outputs": [],
   "source": [
    "add_variables_2(5)"
   ]
  },
  {
   "cell_type": "code",
   "execution_count": null,
   "metadata": {
    "colab": {},
    "colab_type": "code",
    "collapsed": false,
    "id": "O9I_98MxSfe2",
    "outputId": "f81565e4-7fdb-461e-f7c8-b0d2a048ec30"
   },
   "outputs": [],
   "source": [
    "add_variables_2(5,8)"
   ]
  },
  {
   "cell_type": "code",
   "execution_count": null,
   "metadata": {
    "colab": {},
    "colab_type": "code",
    "collapsed": false,
    "id": "DCz5_ImaSfe5",
    "outputId": "5d755d7d-fa09-49ec-b211-f517779015d0"
   },
   "outputs": [],
   "source": [
    "#ERROR\n",
    "add_variables_2(b=10)"
   ]
  },
  {
   "cell_type": "code",
   "execution_count": null,
   "metadata": {
    "colab": {},
    "colab_type": "code",
    "collapsed": false,
    "id": "MZrlPh8DSfe9",
    "outputId": "8ed594d7-47a7-437e-d6ad-a94bc2be5400"
   },
   "outputs": [],
   "source": [
    "#ERROR\n",
    "add_variables(a=10,8)"
   ]
  },
  {
   "cell_type": "markdown",
   "metadata": {
    "colab_type": "text",
    "id": "p74CPdwRSffA"
   },
   "source": [
    "## 2.3 Variable scopes\n",
    "\n",
    "### 2.3.1 Global variables\n",
    "\n",
    "A variable defined inside a code block (like a function or a loop) can only be used within that code block. \n",
    "\n",
    "However, a variable defined outside of a code block, can be used both inside and outside the of it."
   ]
  },
  {
   "cell_type": "code",
   "execution_count": null,
   "metadata": {
    "colab": {},
    "colab_type": "code",
    "collapsed": true,
    "id": "pbcIWlMdSffA"
   },
   "outputs": [],
   "source": [
    "my_var = 3"
   ]
  },
  {
   "cell_type": "code",
   "execution_count": null,
   "metadata": {
    "colab": {},
    "colab_type": "code",
    "collapsed": true,
    "id": "p1MliqEISffD"
   },
   "outputs": [],
   "source": [
    "def my_first_func():\n",
    "    print(\"my_var is ...\",my_var)"
   ]
  },
  {
   "cell_type": "code",
   "execution_count": null,
   "metadata": {
    "colab": {},
    "colab_type": "code",
    "collapsed": false,
    "id": "-JpBQdpVSffF",
    "outputId": "26f37ae2-298c-4853-c4d6-8dd4bd2dc981"
   },
   "outputs": [],
   "source": [
    "my_first_func()"
   ]
  },
  {
   "cell_type": "markdown",
   "metadata": {
    "colab_type": "text",
    "id": "rS-U08G5SffJ"
   },
   "source": [
    "This variable cannot be changed directly from within the function."
   ]
  },
  {
   "cell_type": "code",
   "execution_count": null,
   "metadata": {
    "colab": {},
    "colab_type": "code",
    "collapsed": false,
    "id": "7IKnWA6qSffJ",
    "outputId": "678ad0e1-6eac-44ea-c305-c9553a7a3b5e"
   },
   "outputs": [],
   "source": [
    "def my_wrong_func(x):\n",
    "    my_var = my_var + x\n",
    "    \n",
    "print(my_var)\n",
    "my_wrong_func(5) #ERROR\n",
    "print(my_var)"
   ]
  },
  {
   "cell_type": "markdown",
   "metadata": {
    "colab_type": "text",
    "id": "d2v8z_Y_SffO"
   },
   "source": [
    "A way around is, is to use a return value. Here, we change the variable \"outside\" of the function."
   ]
  },
  {
   "cell_type": "code",
   "execution_count": null,
   "metadata": {
    "colab": {},
    "colab_type": "code",
    "collapsed": false,
    "id": "bxOLoF_3SffP",
    "outputId": "0ba1ef4d-eae0-4da9-f596-558b11700ab0"
   },
   "outputs": [],
   "source": [
    "def my_correct_func(x):\n",
    "    result = my_var + x\n",
    "    return result\n",
    "\n",
    "print(my_var)\n",
    "my_var =  my_correct_func(5)#Here, we change the variable \"outside\" of the function.\n",
    "print(my_var)"
   ]
  },
  {
   "cell_type": "markdown",
   "metadata": {},
   "source": [
    "Another method is using the [global statement](https://docs.python.org/2/reference/simple_stmts.html#the-global-statement) (not recommended)"
   ]
  },
  {
   "cell_type": "code",
   "execution_count": null,
   "metadata": {
    "collapsed": true
   },
   "outputs": [],
   "source": [
    "def my_correct_func_2(x):\n",
    "    global my_var\n",
    "    my_var = my_var + x"
   ]
  },
  {
   "cell_type": "code",
   "execution_count": null,
   "metadata": {
    "collapsed": false
   },
   "outputs": [],
   "source": [
    "my_var = 5\n",
    "my_correct_func_2(4)\n",
    "print(my_var)"
   ]
  },
  {
   "cell_type": "markdown",
   "metadata": {
    "colab_type": "text",
    "id": "4GcvgFoGSffS"
   },
   "source": [
    "### 2.3.2 Local variables"
   ]
  },
  {
   "cell_type": "markdown",
   "metadata": {
    "colab_type": "text",
    "id": "tV9WJJDJSffS"
   },
   "source": [
    "A variable defined inside a code block like a function, is only accessible from within the function. This is a **local variable**."
   ]
  },
  {
   "cell_type": "code",
   "execution_count": null,
   "metadata": {
    "colab": {},
    "colab_type": "code",
    "collapsed": true,
    "id": "mRy1uG87SffT"
   },
   "outputs": [],
   "source": [
    "def my_second_func():\n",
    "    my_local_var = 6"
   ]
  },
  {
   "cell_type": "code",
   "execution_count": null,
   "metadata": {
    "colab": {},
    "colab_type": "code",
    "collapsed": false,
    "id": "lgig4S92SffW",
    "outputId": "7a9c0bc5-e969-4a9f-a546-0ec823ca687b"
   },
   "outputs": [],
   "source": [
    "my_second_func()\n",
    "print(my_local_var) #ERROR"
   ]
  },
  {
   "cell_type": "markdown",
   "metadata": {
    "colab_type": "text",
    "id": "xxN1q7CISffa"
   },
   "source": [
    "A local variable can have the same name as an existing global variable..."
   ]
  },
  {
   "cell_type": "code",
   "execution_count": null,
   "metadata": {
    "colab": {},
    "colab_type": "code",
    "collapsed": true,
    "id": "zN3RQe3-Sffb"
   },
   "outputs": [],
   "source": [
    "my_var = 10\n",
    "\n",
    "def my_overwriting_func():\n",
    "    my_var = 6 # notice the difference with my_wrong_func above.\n",
    "    print(\"my_var inside function: \",my_var)"
   ]
  },
  {
   "cell_type": "code",
   "execution_count": null,
   "metadata": {
    "colab": {},
    "colab_type": "code",
    "collapsed": false,
    "id": "Plx0ZisISffd",
    "outputId": "6cbf7e5c-cb2e-4167-a07b-64ecded23732"
   },
   "outputs": [],
   "source": [
    "print(\"my_var before function: \",my_var)\n",
    "my_overwriting_func()\n",
    "print(\"my_var after function: \",my_var)"
   ]
  },
  {
   "cell_type": "markdown",
   "metadata": {
    "colab_type": "text",
    "id": "mX75rgsgSffg"
   },
   "source": [
    "## 2.4 \\*\\*Kwargs and \\*args (advanced)\n",
    "\n",
    "### 2.4.1 \\*\\*Kwargs\n",
    "\n",
    "The creator of a function can allow the user to pass his own custom parameters, without specifying in advance the name of these parameters or the amount of parameters. Check the following syntax."
   ]
  },
  {
   "cell_type": "code",
   "execution_count": null,
   "metadata": {
    "colab": {},
    "colab_type": "code",
    "collapsed": true,
    "id": "yXxC_7N8Sffg"
   },
   "outputs": [],
   "source": [
    "def kwargs_function(a,b=10,**kwargs):\n",
    "    print(kwargs)\n",
    "    print(type(kwargs))\n",
    "    return a+b"
   ]
  },
  {
   "cell_type": "code",
   "execution_count": null,
   "metadata": {
    "colab": {},
    "colab_type": "code",
    "collapsed": false,
    "id": "MYvGv5h1Sffk",
    "outputId": "25af22ee-4036-4c5a-98d5-61753940227c"
   },
   "outputs": [],
   "source": [
    "kwargs_function(5,first_kwarg=\"Hello\",second_kwarg=42)"
   ]
  },
  {
   "cell_type": "markdown",
   "metadata": {
    "colab_type": "text",
    "id": "iKp7-CuISffn"
   },
   "source": [
    "\\*\\*kwargs always come last. They represent any additional key-value pair that the user wants to pass to the function. Inside the function, the parameters are stored in a dictionary 'kwargs'."
   ]
  },
  {
   "cell_type": "markdown",
   "metadata": {
    "colab_type": "text",
    "id": "qKmGxd8aSffn"
   },
   "source": [
    "### 2.4.2 \\*Args\n",
    "\n",
    "A similar thing can be done with \\*args.  This is a tuple, not a dictionary."
   ]
  },
  {
   "cell_type": "code",
   "execution_count": null,
   "metadata": {
    "colab": {},
    "colab_type": "code",
    "collapsed": true,
    "id": "vriP1gQKSffo"
   },
   "outputs": [],
   "source": [
    "def myFun(first_arg, *args): \n",
    "    print(\"type of args: \",type(args))\n",
    "    print (\"first :\", first_arg) \n",
    "    for arg in args: \n",
    "        print(\"Next :\", arg) \n",
    "  "
   ]
  },
  {
   "cell_type": "code",
   "execution_count": null,
   "metadata": {
    "colab": {},
    "colab_type": "code",
    "collapsed": false,
    "id": "x16V4ZkLSffr",
    "outputId": "dd175a45-ed4b-4384-8bf3-1eef3ebbd903"
   },
   "outputs": [],
   "source": [
    "myFun('Example', 'of', '*args', 'parameters') "
   ]
  },
  {
   "cell_type": "markdown",
   "metadata": {
    "colab_type": "text",
    "id": "0vkWs1zDSffz"
   },
   "source": [
    "## 2.5 Passing functions around\n",
    "\n",
    "A function behaves as an object and can be used as a variable in another function."
   ]
  },
  {
   "cell_type": "code",
   "execution_count": null,
   "metadata": {
    "colab": {},
    "colab_type": "code",
    "collapsed": true,
    "id": "xeWz3ru7Sffz"
   },
   "outputs": [],
   "source": [
    "def print_function(message):\n",
    "    print(\"message: \",message)\n",
    "    \n",
    "def length_function(message):\n",
    "    print(\"the length of this message is {0} characters\".format(len(message)))"
   ]
  },
  {
   "cell_type": "code",
   "execution_count": null,
   "metadata": {
    "colab": {},
    "colab_type": "code",
    "collapsed": true,
    "id": "LPLoLumRSff2"
   },
   "outputs": [],
   "source": [
    "def wrapper_function(function,message):\n",
    "    function(message)"
   ]
  },
  {
   "cell_type": "code",
   "execution_count": null,
   "metadata": {
    "colab": {},
    "colab_type": "code",
    "collapsed": false,
    "id": "SFUzdjMWSff4",
    "outputId": "0746a712-263f-4938-b47b-90ee150dd50d"
   },
   "outputs": [],
   "source": [
    "wrapper_function(print_function,\"Hello world\")"
   ]
  },
  {
   "cell_type": "code",
   "execution_count": null,
   "metadata": {
    "colab": {},
    "colab_type": "code",
    "collapsed": false,
    "id": "2DcViVlLSff7",
    "outputId": "59b0afcf-fba2-4c42-90d0-a4ddec2ae6e7"
   },
   "outputs": [],
   "source": [
    "wrapper_function(length_function, \"Hello world\")"
   ]
  },
  {
   "cell_type": "markdown",
   "metadata": {
    "colab_type": "text",
    "id": "TDBV33ZmSff-"
   },
   "source": [
    "## 2.6 Type checks"
   ]
  },
  {
   "cell_type": "markdown",
   "metadata": {
    "colab_type": "text",
    "id": "8SfPcR69Sff-"
   },
   "source": [
    "A Python function will not enforce variable types for the parameters."
   ]
  },
  {
   "cell_type": "code",
   "execution_count": null,
   "metadata": {
    "colab": {},
    "colab_type": "code",
    "collapsed": false,
    "id": "g_dYNNt0Sff_",
    "outputId": "16806c17-ca89-413d-df1a-5e70885b7517"
   },
   "outputs": [],
   "source": [
    "sum_string = add_variables(\"hello\",\"world\")\n",
    "print(sum_string)"
   ]
  },
  {
   "cell_type": "markdown",
   "metadata": {
    "colab_type": "text",
    "id": "LA9yIu3_SfgD"
   },
   "source": [
    "note: In order to make his/her code robust and easily debuggable, a Python developer will often include his own type checks. "
   ]
  },
  {
   "cell_type": "code",
   "execution_count": null,
   "metadata": {
    "colab": {},
    "colab_type": "code",
    "collapsed": false,
    "id": "Ebe_WOZUSfgD",
    "outputId": "0e3a499a-2672-4462-b130-3eb592ae5359"
   },
   "outputs": [],
   "source": [
    "test_variable = \"5\"\n",
    "type(test_variable)"
   ]
  },
  {
   "cell_type": "code",
   "execution_count": null,
   "metadata": {
    "colab": {},
    "colab_type": "code",
    "collapsed": false,
    "id": "udj1PsntSfgF",
    "outputId": "8f2db6bf-63ca-42cb-ab43-871f50b28ace"
   },
   "outputs": [],
   "source": [
    "isinstance(test_variable,str)"
   ]
  },
  {
   "cell_type": "code",
   "execution_count": null,
   "metadata": {
    "colab": {},
    "colab_type": "code",
    "collapsed": false,
    "id": "A2VCXLRnSfgH",
    "outputId": "6c004ed7-ed34-4758-ffd9-99290d6e14c7"
   },
   "outputs": [],
   "source": [
    "isinstance(test_variable,int)"
   ]
  },
  {
   "cell_type": "code",
   "execution_count": null,
   "metadata": {
    "colab": {},
    "colab_type": "code",
    "collapsed": false,
    "id": "0n50Y_-iSfgJ",
    "outputId": "25eec713-c3a7-41ee-ed97-6c85f529f822"
   },
   "outputs": [],
   "source": [
    "c = isinstance(test_variable,int)\n",
    "type(c)"
   ]
  },
  {
   "cell_type": "markdown",
   "metadata": {
    "colab_type": "text",
    "id": "7nQsYyXjSfgM"
   },
   "source": [
    "# 3 Logical operators, comparison and conditionals"
   ]
  },
  {
   "cell_type": "markdown",
   "metadata": {
    "colab_type": "text",
    "id": "x0udh59VSfgM"
   },
   "source": [
    "## 3.1 Operators"
   ]
  },
  {
   "cell_type": "code",
   "execution_count": null,
   "metadata": {
    "colab": {},
    "colab_type": "code",
    "collapsed": false,
    "id": "y6zV9YOPSfgN",
    "outputId": "56078321-87eb-4782-93a5-700634dac726"
   },
   "outputs": [],
   "source": [
    "a = True # reserved keywords (capital letters!)\n",
    "b = False\n",
    "type(a)"
   ]
  },
  {
   "cell_type": "code",
   "execution_count": null,
   "metadata": {
    "colab": {},
    "colab_type": "code",
    "collapsed": false,
    "id": "Ha74bZYDSfgO",
    "outputId": "788e0b2f-d3f0-43d4-f9e5-e24dfd605c9b"
   },
   "outputs": [],
   "source": [
    "a_or_b = a or b\n",
    "\n",
    "a_and_b = a and b \n",
    "\n",
    "print(\"a or b:\", a_or_b)\n",
    "print(\"a_and_b\", a_and_b)"
   ]
  },
  {
   "cell_type": "markdown",
   "metadata": {
    "colab_type": "text",
    "id": "-jQD8q-fSfgU"
   },
   "source": [
    "**IMPORTANT:** Don't confuse the **'and' and 'or' keywords** with the **'&' and '|' symbols**. & and | are used for bitwise comparison. \n",
    "Getting it wrong results in unexpected results..."
   ]
  },
  {
   "cell_type": "code",
   "execution_count": null,
   "metadata": {
    "colab": {},
    "colab_type": "code",
    "collapsed": false,
    "id": "oJIh1pUCSfgV",
    "outputId": "e61d2dae-efd1-4af1-d9cb-82d8fcb9d2f4"
   },
   "outputs": [],
   "source": [
    "# Nothing unexpected here...\n",
    "a = True\n",
    "b = False\n",
    "a & b "
   ]
  },
  {
   "cell_type": "code",
   "execution_count": null,
   "metadata": {
    "colab": {},
    "colab_type": "code",
    "collapsed": false,
    "id": "5sepe5fnSfga",
    "outputId": "3fd4d769-56e2-4b8e-b3f0-220ed30d2d64"
   },
   "outputs": [],
   "source": [
    "# But what about this\n",
    "a = 5\n",
    "b = 9\n",
    "print(a & b)\n",
    "print(a | c)\n",
    "print(type(a & b))"
   ]
  },
  {
   "cell_type": "markdown",
   "metadata": {
    "colab_type": "text",
    "id": "APCtfgISSfgd"
   },
   "source": [
    "Rule of thumb: Use '|' and '&' for bitwise comparison of integers, 'and' and 'or' otherwise."
   ]
  },
  {
   "cell_type": "code",
   "execution_count": null,
   "metadata": {
    "colab": {},
    "colab_type": "code",
    "collapsed": false,
    "id": "DKvpBY0ZSfge",
    "outputId": "49e9c79a-629a-40fe-8e6e-e3c3b70f0ad1"
   },
   "outputs": [],
   "source": [
    "c = True\n",
    "print(not c)"
   ]
  },
  {
   "cell_type": "code",
   "execution_count": null,
   "metadata": {
    "colab": {},
    "colab_type": "code",
    "collapsed": false,
    "id": "W6QcaXD1Sfgm",
    "outputId": "3a4df171-ac68-4a0e-9f50-423ef9e3ee9e"
   },
   "outputs": [],
   "source": [
    "d = False\n",
    "print(not d)"
   ]
  },
  {
   "cell_type": "markdown",
   "metadata": {
    "colab_type": "text",
    "id": "H5SwL48USfgr"
   },
   "source": [
    "## 3.2 Comparison"
   ]
  },
  {
   "cell_type": "code",
   "execution_count": null,
   "metadata": {
    "colab": {},
    "colab_type": "code",
    "collapsed": true,
    "id": "ueenzeesSfgs"
   },
   "outputs": [],
   "source": [
    "a = 5\n",
    "b = 6"
   ]
  },
  {
   "cell_type": "code",
   "execution_count": null,
   "metadata": {
    "colab": {},
    "colab_type": "code",
    "collapsed": false,
    "id": "As-X_07ySfgt",
    "outputId": "9f381f89-c55a-4481-82da-d40d3ba17689"
   },
   "outputs": [],
   "source": [
    "a == b"
   ]
  },
  {
   "cell_type": "code",
   "execution_count": null,
   "metadata": {
    "colab": {},
    "colab_type": "code",
    "collapsed": false,
    "id": "BwwHtT5ESfgw",
    "outputId": "74b745e0-a92a-4672-d574-0055eca66a94"
   },
   "outputs": [],
   "source": [
    "a != b "
   ]
  },
  {
   "cell_type": "code",
   "execution_count": null,
   "metadata": {
    "colab": {},
    "colab_type": "code",
    "collapsed": false,
    "id": "1FvkAOkdSfg0",
    "outputId": "27ed6db8-7eff-4fd2-a9f7-0ab20e5a2992"
   },
   "outputs": [],
   "source": [
    "a > b"
   ]
  },
  {
   "cell_type": "code",
   "execution_count": null,
   "metadata": {
    "colab": {},
    "colab_type": "code",
    "collapsed": false,
    "id": "Tudo_9elSfg3",
    "outputId": "b0531ff9-ad91-45e9-9348-eeee18aa8fd9"
   },
   "outputs": [],
   "source": [
    "a >= 5"
   ]
  },
  {
   "cell_type": "code",
   "execution_count": null,
   "metadata": {
    "colab": {},
    "colab_type": "code",
    "collapsed": false,
    "id": "RxNZOg4gSfg5",
    "outputId": "7b101530-6768-4c4f-84a4-126323c64ddb"
   },
   "outputs": [],
   "source": [
    "c = a == b\n",
    "print(c)\n",
    "print(type(c))"
   ]
  },
  {
   "cell_type": "markdown",
   "metadata": {
    "colab_type": "text",
    "id": "JwOTtMcjSfg7"
   },
   "source": [
    "What about strings?"
   ]
  },
  {
   "cell_type": "code",
   "execution_count": null,
   "metadata": {
    "colab": {},
    "colab_type": "code",
    "collapsed": true,
    "id": "PsgXYBBGSfg7"
   },
   "outputs": [],
   "source": [
    "a_int = 5\n",
    "a_string = \"5\""
   ]
  },
  {
   "cell_type": "code",
   "execution_count": null,
   "metadata": {
    "colab": {},
    "colab_type": "code",
    "collapsed": false,
    "id": "fT2UmA2uSfg8",
    "outputId": "3d61e669-1e97-4df9-8324-dcf882bbf34d"
   },
   "outputs": [],
   "source": [
    "a_int == a_string"
   ]
  },
  {
   "cell_type": "code",
   "execution_count": null,
   "metadata": {
    "colab": {},
    "colab_type": "code",
    "collapsed": false,
    "id": "jYk9700JSfg9",
    "outputId": "b2389bc4-98d9-4a4e-8902-8ec0374f8d92"
   },
   "outputs": [],
   "source": [
    "a_int > a_string"
   ]
  },
  {
   "cell_type": "code",
   "execution_count": null,
   "metadata": {
    "colab": {},
    "colab_type": "code",
    "collapsed": true,
    "id": "t-jLC2WPSfg-"
   },
   "outputs": [],
   "source": [
    "word_1 = \"banana\"\n",
    "word_2 = \"apple\""
   ]
  },
  {
   "cell_type": "code",
   "execution_count": null,
   "metadata": {
    "colab": {},
    "colab_type": "code",
    "collapsed": false,
    "id": "9-OO54U1SfhA",
    "outputId": "07826d0b-0d1b-43ca-de1c-753457ced15e"
   },
   "outputs": [],
   "source": [
    "word_1 > word_2 # word_1 comes later in alphabetical order."
   ]
  },
  {
   "cell_type": "markdown",
   "metadata": {
    "colab_type": "text",
    "id": "I1AsvRvfSfhB"
   },
   "source": [
    "**IMPORTANT: ** In this course, we will use the '==' and '!=' operators. However, some code examples online, you might see '**is**' instead of '==' and '**is not**' instead of '!='."
   ]
  },
  {
   "cell_type": "code",
   "execution_count": null,
   "metadata": {
    "colab": {},
    "colab_type": "code",
    "collapsed": true,
    "id": "g1DtNeVhSfhC"
   },
   "outputs": [],
   "source": [
    "a = 7\n",
    "b = 8"
   ]
  },
  {
   "cell_type": "code",
   "execution_count": null,
   "metadata": {
    "colab": {},
    "colab_type": "code",
    "collapsed": false,
    "id": "RNUSBWV4SfhC",
    "outputId": "38ce83bd-dc25-4e7a-9ff1-c3209b5a3932"
   },
   "outputs": [],
   "source": [
    "a is b"
   ]
  },
  {
   "cell_type": "code",
   "execution_count": null,
   "metadata": {
    "colab": {},
    "colab_type": "code",
    "collapsed": false,
    "id": "OBS7OzMMSfhD",
    "outputId": "1cf6e753-e685-4dbf-9d98-9486c9d74496"
   },
   "outputs": [],
   "source": [
    "a is not b"
   ]
  },
  {
   "cell_type": "markdown",
   "metadata": {
    "colab_type": "text",
    "id": "fYL_mdT7SfhF"
   },
   "source": [
    "There is an **important difference** between these methods!The former compares equality, the latter compares identity. This is nicely explained in [this blog...](https://dbader.org/blog/difference-between-is-and-equals-in-python)"
   ]
  },
  {
   "cell_type": "code",
   "execution_count": null,
   "metadata": {
    "colab": {},
    "colab_type": "code",
    "collapsed": true,
    "id": "-amUfFh3SfhG"
   },
   "outputs": [],
   "source": [
    "a = [1,2,3]\n",
    "b = [1,2,3]"
   ]
  },
  {
   "cell_type": "code",
   "execution_count": null,
   "metadata": {
    "colab": {},
    "colab_type": "code",
    "collapsed": false,
    "id": "ot2R604eSfhH",
    "outputId": "bb8f30a5-8df9-4e6e-eaa9-fddea4a9dba9"
   },
   "outputs": [],
   "source": [
    "# Comparing equality\n",
    "a == b # true"
   ]
  },
  {
   "cell_type": "code",
   "execution_count": null,
   "metadata": {
    "colab": {},
    "colab_type": "code",
    "collapsed": false,
    "id": "OezLpARbSfhK",
    "outputId": "fa4c22c8-6845-467d-a067-58082a40cf8e"
   },
   "outputs": [],
   "source": [
    "# Comparing identity\n",
    "a is b # False: variables a and b are pointing to two different objects."
   ]
  },
  {
   "cell_type": "code",
   "execution_count": null,
   "metadata": {
    "colab": {},
    "colab_type": "code",
    "collapsed": false,
    "id": "k3VKH52jSfhL",
    "outputId": "a9e10995-9ce7-433e-dba9-abc8d55b102b"
   },
   "outputs": [],
   "source": [
    "c = [1,2,3]\n",
    "d = c\n",
    "print(c)\n",
    "print(d)"
   ]
  },
  {
   "cell_type": "code",
   "execution_count": null,
   "metadata": {
    "colab": {},
    "colab_type": "code",
    "collapsed": false,
    "id": "c3HAPgFISfhN",
    "outputId": "b220f70a-776f-498d-adca-b2e4d5155eb7"
   },
   "outputs": [],
   "source": [
    "c is d # c and d point to the same object "
   ]
  },
  {
   "cell_type": "markdown",
   "metadata": {
    "colab_type": "text",
    "id": "m9a58QGYSfhP"
   },
   "source": [
    "## 3.3 Conditionals"
   ]
  },
  {
   "cell_type": "markdown",
   "metadata": {
    "colab_type": "text",
    "id": "7V6bpyBVSfhQ"
   },
   "source": [
    "Note the indents!"
   ]
  },
  {
   "cell_type": "code",
   "execution_count": null,
   "metadata": {
    "colab": {},
    "colab_type": "code",
    "collapsed": true,
    "id": "zOqjZ8izSfhR"
   },
   "outputs": [],
   "source": [
    "a = False\n",
    "eight = 8\n",
    "seven = 7"
   ]
  },
  {
   "cell_type": "code",
   "execution_count": null,
   "metadata": {
    "colab": {},
    "colab_type": "code",
    "collapsed": true,
    "id": "jNKcXwpkSfhV"
   },
   "outputs": [],
   "source": [
    "if a:\n",
    "    print(\"hello\")"
   ]
  },
  {
   "cell_type": "code",
   "execution_count": null,
   "metadata": {
    "colab": {},
    "colab_type": "code",
    "collapsed": false,
    "id": "Ior2ah8dSfhX",
    "outputId": "8e6d3489-11da-4f7a-f014-547753faafdc"
   },
   "outputs": [],
   "source": [
    "if a: \n",
    "    print(\"hello\")\n",
    "else:\n",
    "    print(\"no hello\")"
   ]
  },
  {
   "cell_type": "code",
   "execution_count": null,
   "metadata": {
    "colab": {},
    "colab_type": "code",
    "collapsed": false,
    "id": "XQT1SoypSfhb",
    "outputId": "3407f503-5497-4055-9350-1bf9bbab6433"
   },
   "outputs": [],
   "source": [
    "if (eight != seven):\n",
    "    print(\"not equal\")"
   ]
  },
  {
   "cell_type": "code",
   "execution_count": null,
   "metadata": {
    "colab": {},
    "colab_type": "code",
    "collapsed": false,
    "id": "tXBogKR_Sfhf",
    "outputId": "0c52a452-dcf3-4683-b95b-23ff7c6072b3"
   },
   "outputs": [],
   "source": [
    "if a:\n",
    "    print(\"hello\")\n",
    "elif (eight == seven):\n",
    "    print(\"equal\")\n",
    "else: \n",
    "    print(\"not equal\")\n",
    "    "
   ]
  },
  {
   "cell_type": "code",
   "execution_count": null,
   "metadata": {
    "colab": {},
    "colab_type": "code",
    "collapsed": false,
    "id": "ZxwissUpSfhm",
    "outputId": "569410bc-8132-4bd7-8663-88de3d57f123"
   },
   "outputs": [],
   "source": [
    "if a:\n",
    "    print(\"hello\")\n",
    "elif (eight == seven):\n",
    "    print(\"equal\")\n",
    "elif (eight != seven): \n",
    "    print(\"not equal\")\n",
    "elif (9 == 9):\n",
    "    print(\"9 equals 9\")\n",
    "else:\n",
    "    print(\"nothing\")"
   ]
  },
  {
   "cell_type": "markdown",
   "metadata": {
    "colab_type": "text",
    "id": "d3IuVOyBSfho"
   },
   "source": [
    "\"9 equals 9\" did not print, because previous if-statement was executed"
   ]
  },
  {
   "cell_type": "markdown",
   "metadata": {
    "colab_type": "text",
    "id": "0K0aRSC1Sfhp"
   },
   "source": [
    "# 4 Loops\n",
    "\n",
    "## 4.1 For-loop\n",
    "\n",
    "A for loop iterators over all elements of an iterable object. The most important iterable objects are lists and tuples."
   ]
  },
  {
   "cell_type": "code",
   "execution_count": null,
   "metadata": {
    "colab": {},
    "colab_type": "code",
    "collapsed": false,
    "id": "i9DFOX3sSfhp",
    "outputId": "de7d7d88-8f2a-470e-831b-1f37e5d2f5ac"
   },
   "outputs": [],
   "source": [
    "my_list = [\"Iterate\",\"over\",\"all\",\"elements\"]\n",
    "for word in my_list:\n",
    "    print(word)"
   ]
  },
  {
   "cell_type": "code",
   "execution_count": null,
   "metadata": {
    "colab": {},
    "colab_type": "code",
    "collapsed": false,
    "id": "RfQAVXxISfhr",
    "outputId": "bee2b1d8-bb5f-480c-8c8c-c62aaa5546bd"
   },
   "outputs": [],
   "source": [
    "total = 0\n",
    "my_tuple = (1,2,3,4)\n",
    "for number in my_tuple:\n",
    "    total += number\n",
    "    \n",
    "print(total)"
   ]
  },
  {
   "cell_type": "code",
   "execution_count": null,
   "metadata": {
    "colab": {},
    "colab_type": "code",
    "collapsed": false,
    "id": "1a5fiplTSfht",
    "outputId": "61ab6bc8-6827-4e91-9781-b38fabd414bf"
   },
   "outputs": [],
   "source": [
    "for i in range(10):\n",
    "    print(i)"
   ]
  },
  {
   "cell_type": "code",
   "execution_count": null,
   "metadata": {
    "colab": {},
    "colab_type": "code",
    "collapsed": false,
    "id": "EM7F3tikSfhv",
    "outputId": "46b81cde-c626-4f9c-ae24-c14c055deeda"
   },
   "outputs": [],
   "source": [
    "for i in \"Hello\":\n",
    "    print(i)"
   ]
  },
  {
   "cell_type": "markdown",
   "metadata": {
    "colab_type": "text",
    "id": "eEhX3RuvSfhx"
   },
   "source": [
    "## 4.2. While-loop"
   ]
  },
  {
   "cell_type": "code",
   "execution_count": null,
   "metadata": {
    "colab": {},
    "colab_type": "code",
    "collapsed": false,
    "id": "00yHz9lVSfhx",
    "outputId": "a45d7bad-b389-4819-d21c-76185348551a"
   },
   "outputs": [],
   "source": [
    "import random\n",
    "\n",
    "value = 0\n",
    "while value < 1:\n",
    "    value += random.randint(0,10) #add a random number between 0 and 10\n",
    "    print(value)"
   ]
  },
  {
   "cell_type": "markdown",
   "metadata": {
    "colab_type": "text",
    "id": "zdStRN_wSfh1"
   },
   "source": [
    "# 5 Classes\n",
    "\n",
    "Instead of using built-in python classes or classes from third-party library, a Python user can also define his own classes. A class is basically a **type of object** which has certain **attributes** and some functions (**methods**) that can be performed on the object. Without going in to many detail, below is an example of a class and how to use it. Does the syntax make sense?"
   ]
  },
  {
   "cell_type": "code",
   "execution_count": null,
   "metadata": {
    "colab": {},
    "colab_type": "code",
    "collapsed": true,
    "id": "rCgqkn1QSfh1"
   },
   "outputs": [],
   "source": [
    "class team():\n",
    "       \n",
    "    def __init__(self,initial_members=[]): # the __init__ function is the constructor, it decides how a new 'team' object is created.\n",
    "        self.members = initial_members\n",
    "        self.count = len(initial_members)\n",
    "        \n",
    "    def starting_with(self,letter): #returns all team members with a name starting with 'letter'.\n",
    "        result = []\n",
    "        for member in self.members:\n",
    "            if (member[0] == letter):\n",
    "                result.append(member)\n",
    "        return result\n",
    "    \n",
    "    def add_member(self,name):\n",
    "        self.count += 1\n",
    "        self.members.append(name)\n"
   ]
  },
  {
   "cell_type": "code",
   "execution_count": null,
   "metadata": {
    "colab": {},
    "colab_type": "code",
    "collapsed": false,
    "id": "3zA2gtTLSfh3",
    "outputId": "c4253e02-2a35-4990-cd79-0069b5cd6986"
   },
   "outputs": [],
   "source": [
    "team1 = team()\n",
    "team1.add_member(\"John\")\n",
    "print(\"members: \",team1.members)\n",
    "print(\"count: \",team1.count)\n",
    "print(\"starting with J: \",team1.starting_with(\"J\"))"
   ]
  },
  {
   "cell_type": "code",
   "execution_count": null,
   "metadata": {
    "colab": {},
    "colab_type": "code",
    "collapsed": true,
    "id": "2KJo9VMdSfh6"
   },
   "outputs": [],
   "source": []
  },
  {
   "cell_type": "markdown",
   "metadata": {
    "colab_type": "text",
    "id": "DWRAqIk7Sfh7"
   },
   "source": [
    "# 6 Importing libraries\n",
    "\n",
    "Python has some built-in libraries to perform specific tasks. Before using a library, it must be imported. The cells below demonstrate a few ways to import libraries.\n",
    "\n",
    "Third-party libraries must be installed first before importing them. Installing libraries is easy with the **pip** package manager. We will demonstrate this in the next notebook. When using Colaboratory, many popular third-party packages are already installed on the hosted Colaboratory environment."
   ]
  },
  {
   "cell_type": "code",
   "execution_count": null,
   "metadata": {
    "colab": {},
    "colab_type": "code",
    "collapsed": false,
    "id": "8wnhtgxZSfh7",
    "outputId": "7ff79cb7-6f93-4d48-ebde-de294b357f34"
   },
   "outputs": [],
   "source": [
    "import random\n",
    "import math\n",
    "\n",
    "value = random.randint(0,10)\n",
    "print(value)\n",
    "\n",
    "four = math.sqrt(16)\n",
    "print(four)"
   ]
  },
  {
   "cell_type": "code",
   "execution_count": null,
   "metadata": {
    "colab": {},
    "colab_type": "code",
    "collapsed": false,
    "id": "m1v0hkDjSfh9",
    "outputId": "09041539-f406-48df-88f5-4e4d2bb20baa"
   },
   "outputs": [],
   "source": [
    "#import specific functions from a library\n",
    "from random import randint, randrange\n",
    "\n",
    "value = randint(0,10)\n",
    "print(value)"
   ]
  },
  {
   "cell_type": "code",
   "execution_count": null,
   "metadata": {
    "colab": {},
    "colab_type": "code",
    "collapsed": true,
    "id": "-i4zhzPBSfh_"
   },
   "outputs": [],
   "source": [
    "# import all functions from the library. What's the difference with \"import random\"?\n",
    "from random import *"
   ]
  },
  {
   "cell_type": "code",
   "execution_count": null,
   "metadata": {
    "colab": {},
    "colab_type": "code",
    "collapsed": false,
    "id": "_V4IFSlFSfiB",
    "outputId": "c52a7f39-05fe-43a2-bd8e-73f346b95dae"
   },
   "outputs": [],
   "source": [
    "# import with custom name\n",
    "import random as r\n",
    "\n",
    "value = r.randint(0,10)\n",
    "print(value)"
   ]
  },
  {
   "cell_type": "code",
   "execution_count": null,
   "metadata": {
    "colab": {},
    "colab_type": "code",
    "collapsed": false,
    "id": "IxH96_aPSfiC",
    "outputId": "da074c16-6341-4454-eae9-2fd5a2f19281"
   },
   "outputs": [],
   "source": [
    "from random import randint as r\n",
    "value = r(0,10)\n",
    "print(value)"
   ]
  },
  {
   "cell_type": "markdown",
   "metadata": {
    "colab_type": "text",
    "id": "LTFPrG2TSfiF"
   },
   "source": [
    "# 7 Exercise\n",
    "\n",
    "Create a function \"highest_value\" that takes two parameters: \n",
    "1. a list 'my_list' of numerical values\n",
    "2. a threshold (a numerical value with a default value of 100)\n",
    "\n",
    "the goal of the function is to find the highest value in the list. If the highest value is lower or equal to the threshold, return the higest value. If it is higher than the threshold, return the threshold value."
   ]
  },
  {
   "cell_type": "code",
   "execution_count": null,
   "metadata": {
    "colab": {},
    "colab_type": "code",
    "collapsed": true,
    "id": "A5UvhXFsSfiF"
   },
   "outputs": [],
   "source": [
    "# SOLUTION\n",
    "def highest_value(my_list, threshold=100):\n",
    "    \n",
    "    highest_value = my_list[0]\n",
    "    \n",
    "    for value in my_list[1:]:\n",
    "        \n",
    "        if value > highest_value:\n",
    "            \n",
    "            highest_value = value\n",
    "    \n",
    "    if highest_value > threshold:\n",
    "        \n",
    "        return threshold\n",
    "\n",
    "    else:\n",
    "        \n",
    "        return highest_value\n",
    "\n"
   ]
  },
  {
   "cell_type": "markdown",
   "metadata": {
    "colab_type": "text",
    "id": "4MVNzSMZSfiG"
   },
   "source": [
    "Test the function by running the code below."
   ]
  },
  {
   "cell_type": "code",
   "execution_count": null,
   "metadata": {
    "colab": {},
    "colab_type": "code",
    "collapsed": true,
    "id": "1nacgYMoSfiG"
   },
   "outputs": [],
   "source": [
    "numbers_list = [1,2,45,78,369,15]"
   ]
  },
  {
   "cell_type": "code",
   "execution_count": null,
   "metadata": {
    "colab": {},
    "colab_type": "code",
    "collapsed": false,
    "id": "fbP7QmNdSfiH",
    "outputId": "e94e577a-f1e2-4d32-f799-9a8885be7cc4"
   },
   "outputs": [],
   "source": [
    "# should output 100\n",
    "highest_value(numbers_list)"
   ]
  },
  {
   "cell_type": "code",
   "execution_count": null,
   "metadata": {
    "colab": {},
    "colab_type": "code",
    "collapsed": false,
    "id": "fyao63McSfiI",
    "outputId": "157a0d31-d8a9-46dd-a6a7-d7bf2e8525ac"
   },
   "outputs": [],
   "source": [
    "# should output 369\n",
    "highest_value(numbers_list, 400)"
   ]
  },
  {
   "cell_type": "markdown",
   "metadata": {
    "colab_type": "text",
    "id": "lGVCI1x0SfiK"
   },
   "source": [
    "# 6 Documentation"
   ]
  },
  {
   "cell_type": "markdown",
   "metadata": {
    "colab_type": "text",
    "id": "C4jJbfeGSfiK"
   },
   "source": [
    "The [official documentation](https://docs.python.org/3.5/) is the place-to-go to find out more about Python's functionality and built-in functions. \n",
    "\n",
    "\n"
   ]
  }
 ],
 "metadata": {
  "colab": {
   "collapsed_sections": [
    "_mEg9sWtSfc-",
    "_eDUPPwMSfdl",
    "3OMJRZkDSfdy",
    "V43urYlASfd_",
    "LOTnllg5SfeV",
    "p74CPdwRSffA",
    "4GcvgFoGSffS",
    "mX75rgsgSffg",
    "qKmGxd8aSffn",
    "0vkWs1zDSffz",
    "TDBV33ZmSff-",
    "x0udh59VSfgM",
    "H5SwL48USfgr",
    "m9a58QGYSfhP",
    "eEhX3RuvSfhx"
   ],
   "name": "notebook_1_python_jupyter.ipynb",
   "provenance": [],
   "version": "0.3.2"
  },
  "kernelspec": {
   "display_name": "python352",
   "language": "python",
   "name": "python352"
  },
  "language_info": {
   "codemirror_mode": {
    "name": "ipython",
    "version": 3
   },
   "file_extension": ".py",
   "mimetype": "text/x-python",
   "name": "python",
   "nbconvert_exporter": "python",
   "pygments_lexer": "ipython3",
   "version": "3.5.2"
  }
 },
 "nbformat": 4,
 "nbformat_minor": 0
}
